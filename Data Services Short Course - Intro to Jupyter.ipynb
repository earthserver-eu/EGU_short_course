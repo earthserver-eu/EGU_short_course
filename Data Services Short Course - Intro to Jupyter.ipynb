{
 "cells": [
  {
   "cell_type": "markdown",
   "metadata": {
    "collapsed": true,
    "slideshow": {
     "slide_type": "slide"
    }
   },
   "source": [
    "<img src=\"img/es2_logo.jpg\" alt=\"EarthServer-logo\" width=\"50%\"  border=\"4\">\n",
    "<br><br>\n",
    "\n",
    "\n",
    "# Web Services for Big Earth Data\n",
    "\n",
    "## Intoduction to Jupyter Notebooks\n",
    "\n",
    "### Oliver Clements"
   ]
  },
  {
   "cell_type": "markdown",
   "metadata": {
    "slideshow": {
     "slide_type": "slide"
    }
   },
   "source": [
    "# Jupyter Notebook\n",
    "\n",
    " * A system for writting and running python code in the browser\n",
    " * Markdown and HTML can also be used to provide text\n",
    " * can be run locally or through websites\n",
    " * For this workshop we have a public instance available at https://jupyter.eofrom.space"
   ]
  },
  {
   "cell_type": "markdown",
   "metadata": {
    "slideshow": {
     "slide_type": "fragment"
    }
   },
   "source": [
    "## Local \n",
    "\n",
    "A local notebook can be started by simply running `jupyter notebook` from the command line. This will start teh server and launch a browser. From here you are able to create a new notebook and start coding. The notebook will have access to all python libraries you have installed on teh machine running the server. Notebooks can be saved and even rendered on platforms such as github.\n",
    "\n",
    "## Online\n",
    "\n",
    "There are also several platforms that provide online access to Jupyter notebooks. For this tutorial we have a custom system running that has all the libraries you need to run the examples. You will have to login using a github account. The service can be found @ https://jupyter.eofrom.space\n"
   ]
  },
  {
   "cell_type": "code",
   "execution_count": null,
   "metadata": {
    "collapsed": true
   },
   "outputs": [],
   "source": []
  }
 ],
 "metadata": {
  "celltoolbar": "Slideshow",
  "kernelspec": {
   "display_name": "Python 2",
   "language": "python",
   "name": "python2"
  },
  "language_info": {
   "codemirror_mode": {
    "name": "ipython",
    "version": 2
   },
   "file_extension": ".py",
   "mimetype": "text/x-python",
   "name": "python",
   "nbconvert_exporter": "python",
   "pygments_lexer": "ipython2",
   "version": "2.7.5"
  }
 },
 "nbformat": 4,
 "nbformat_minor": 1
}
