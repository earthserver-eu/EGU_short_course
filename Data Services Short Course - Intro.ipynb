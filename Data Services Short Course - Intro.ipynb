{
 "cells": [
  {
   "cell_type": "markdown",
   "metadata": {
    "slideshow": {
     "slide_type": "slide"
    }
   },
   "source": [
    "<img src=\"img/es2_logo.jpg\" alt=\"EarthServer-logo\" width=\"50%\" align=\"left\" border=\"4\"><br><br><br><br>\n",
    "\n",
    "# Web Services for Big Earth Data\n",
    "### A practical session on new ways of geospatial data access and processing <br>\n",
    "\n",
    "\n",
    "Oliver Clements, Julia Wagemann, Simone Mantovani, Ramiro Marco Figuera <br>\n",
    "\n",
    "<br>\n",
    "\n",
    "EGU General Assembly 2017 - Short course 60 | Tuesday, 25 April 2017 - 8:30-10:00"
   ]
  },
  {
   "cell_type": "markdown",
   "metadata": {
    "collapsed": true,
    "slideshow": {
     "slide_type": "slide"
    }
   },
   "source": [
    "<img src=\"img/es2_logo.jpg\" alt=\"EarthServer-logo\" width=\"50%\" align=\"left\" border=\"4\"><br><br><br><br>\n",
    "# Todays Programme\n",
    "| time-slot | speaker |  topic |\n",
    "| ----------- | -------- | ------------ |\n",
    "| 08:30 - 08:35 | Olly |Intro to workshop |\n",
    "| 08:35 - 08:40 | Olly |Intro to jupyter/ipython notebooks |\n",
    "| 08:40 - 08:50 | Julia |Intro to WCS |\n",
    "| 08:50 - 09:00 | Olly |Intro to WCPS |\n",
    "| 09:00 - 09:10 | Olly |Intro to marine science geospatial challenges |\n",
    "| 09:10 - 09:20 | Julia |Intro to climate science challenges |\n",
    "| 09:20 - 09:30 | Ramiro |Intro to planetary science geospatial challenges |\n",
    "| 09:30 - 10:00 | All |Excercise/challenge |\n",
    "\n",
    "\n"
   ]
  },
  {
   "cell_type": "markdown",
   "metadata": {
    "slideshow": {
     "slide_type": "slide"
    }
   },
   "source": [
    "<img src=\"img/es2_logo.jpg\" alt=\"EarthServer-logo\" width=\"50%\" align=\"left\" border=\"4\"><br><br><br><br>\n",
    "# Introduction to Jupyter Notebooks for Python\n",
    "\n",
    "<img src=\"img/jupyter-logo.png\" alt=\"Jupyter-logo\" width=\"20%\" align=\"center\"><br><br><br>\n",
    "Notebook documents (or “notebooks”, all lower case) are documents produced by the Jupyter Notebook App, which contain both computer code (e.g. python) and rich text elements (paragraph, equations, figures, links, etc...). Notebook documents are both human-readable documents containing the analysis description and the results (figures, tables, etc..) as well as executable documents which can be run to perform data analysis."
   ]
  },
  {
   "cell_type": "code",
   "execution_count": 1,
   "metadata": {
    "collapsed": false,
    "slideshow": {
     "slide_type": "fragment"
    }
   },
   "outputs": [
    {
     "name": "stdout",
     "output_type": "stream",
     "text": [
      "You can run code too!!\n"
     ]
    }
   ],
   "source": [
    "print(\"You can run code too!!\")"
   ]
  },
  {
   "cell_type": "code",
   "execution_count": null,
   "metadata": {
    "collapsed": true
   },
   "outputs": [],
   "source": []
  }
 ],
 "metadata": {
  "celltoolbar": "Slideshow",
  "kernelspec": {
   "display_name": "Python 2",
   "language": "python",
   "name": "python2"
  },
  "language_info": {
   "codemirror_mode": {
    "name": "ipython",
    "version": 2
   },
   "file_extension": ".py",
   "mimetype": "text/x-python",
   "name": "python",
   "nbconvert_exporter": "python",
   "pygments_lexer": "ipython2",
   "version": "2.7.13"
  }
 },
 "nbformat": 4,
 "nbformat_minor": 1
}
