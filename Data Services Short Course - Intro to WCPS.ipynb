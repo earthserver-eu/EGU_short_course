{
 "cells": [
  {
   "cell_type": "markdown",
   "metadata": {
    "collapsed": true,
    "slideshow": {
     "slide_type": "slide"
    }
   },
   "source": [
    "<img src=\"img/es2_logo.jpg\" alt=\"EarthServer-logo\" width=\"50%\"  border=\"4\">\n",
    "<br><br>\n",
    "\n",
    "\n",
    "# Web Services for Big Earth Data\n",
    "\n",
    "## Introduction to Web Coverage Processing Service\n",
    "\n",
    "### Oliver Clements"
   ]
  },
  {
   "cell_type": "markdown",
   "metadata": {
    "slideshow": {
     "slide_type": "slide"
    }
   },
   "source": [
    "## Web Coverage Processing Service (WCPS) requests\n",
    "The previous presentation explained the principal setup of WCS requests. A Web Coverage Processing Service (WCPS) is an extension of the WCS core suite. A WCPS has the same setup as a WCS and consists of three components:\n",
    "* Service endpoint,\n",
    "* request type and\n",
    "* query parameter."
   ]
  },
  {
   "cell_type": "markdown",
   "metadata": {
    "slideshow": {
     "slide_type": "slide"
    }
   },
   "source": [
    "# A WCPS request broken down\n"
   ]
  },
  {
   "cell_type": "markdown",
   "metadata": {
    "slideshow": {
     "slide_type": "slide"
    }
   },
   "source": [
    "The principal setup of a query is:  \n",
    "\n",
    "\n",
    "   >> <font color=\"blue\">&query=for c in (</font><font color=\"green\"><i><b>coverageId</b></i></font><font color=\"blue\">) return encode (c</font><font color=\"orange\"><i><b>[...]</b></i></font><font color=\"blue\">, \"</font><font color=\"purple\"><i><b>format</b></i></font><font color=\"blue\">\")</font>,</p>\n",
    "\n",
    ">with:\n",
    "* <font color=\"green\"><i><b>coverageId: </b></i></font> <font>  specifies the parameter (coverage) the query shall be applied on.  \n",
    "     \n",
    "     \n",
    "     >> Example: <font color=\"green\"><i><b>temp2m</b></i></font> for ERA-interim 2m air temperature\n",
    "          \n",
    "     > * <font color=\"orange\"><i><b>[...]</b></i></font>:    specifies the data or subset of data to work with. You can subset any axis of the coverage.\n",
    "\n",
    "     >> Example: the coverage temp2m has three axes: Lat, Long, ansi, and subsets of all three axes can be defined as: <font color=\"orange\"><i><b>[Lat(-10.0:10.0), Long(-10.0:10.0), ansi(\"1999-01-01T00:00\":\"1999-01-31T18:00\")]</b></i></font>.  \n",
    "\n",
    "\n",
    "> * <font color=\"purple\"><i><b>format</b></i></font>: the implied output format can be specified here.\n",
    "\n",
    "\n",
    "     >> Possible format encodings are:\n",
    "* <font color=\"purple\"><b>csv</b></font>\n",
    "* <font color=\"purple\"><b>netcdf</b></font> or\n",
    "* <font color=\"purple\"><b>png</b></font>  \n"
   ]
  },
  {
   "cell_type": "markdown",
   "metadata": {
    "slideshow": {
     "slide_type": "slide"
    }
   },
   "source": [
    "## <a id='basic_wcps'></a><font color=\"black\">Basic WCPS requests</font>\n",
    "\n",
    "The following examples show a variety of WCPS queries and mathematical operations that can be applied to the data of a WCS Server. Examples base on ERA-interim 2m air temperature global fields, 6-hourly values from 1 January 1979 to 31 December 2015\n",
    "\n",
    "* Retrieve **2m air temperature in Kelvin for Italy for January 1999** encoded as **csv**   \n",
    "\n",
    "<p><font color=\"blue\"><a href='http://earthserver.ecmwf.int/rasdaman/ows?service=WCS&version=2.0.1&request=ProcessCoverages&query=for c in (temp2m) return encode(c[Lat(6.6:18.5), Long(35.4:47.1),ansi(\"1999-01-01T00:00\":\"1999-01-31T18:00\")],\"csv\")' target=\"_blank\"> http://earthserver.ecmwf.int/rasdaman/ows?service=WCS&version=2.0.1&request=ProcessCoverages&query=for c in (temp2m) return encode(c[Lat(6.6:18.5), Long(35.4:47.1),ansi(\"1999-01-01T00:00\":\"1999-01-31T18:00\")],\"csv\")</a></font></p>"
   ]
  },
  {
   "cell_type": "markdown",
   "metadata": {
    "slideshow": {
     "slide_type": "slide"
    }
   },
   "source": [
    "* Retrieve **2m air temperature in Kelvin for Europe for 10 January 1999 at 12 UTC** encoded as **netCDF**  \n",
    "\n",
    "<p><font color=\"blue\"><a href='http://earthserver.ecmwf.int/rasdaman/ows?service=WCS&version=2.0.1&request=ProcessCoverages&query=for c in (temp2m) return encode(c[Lat(-35.0:65.0), Long(-35.0:80.0),ansi(\"1999-01-12T12:00\")],\"netcdf\")' target=\"_blank\"> http://earthserver.ecmwf.int/rasdaman/ows?service=WCS&version=2.0.1&request=ProcessCoverages&query=for c in (temp2m) return encode(c[Lat(-35.0:65.0), Long(35.0:80.0),ansi(\"1999-01-12T12:00\")],\"netcdf\")</a></font></p>"
   ]
  },
  {
   "cell_type": "markdown",
   "metadata": {
    "slideshow": {
     "slide_type": "slide"
    }
   },
   "source": [
    "## <a id='maths_wcps'></a><font color=\"black\">Conduct mathematical operations with WCPS</font>\n",
    "\n",
    "Get the **minimum, maximum and mean temperature in degree celsius** of Berlin for the year 2003\n",
    "\n",
    "There are already predefined <font color=\"purple\"><b>operators</b></font> for retrieving the minimum, maximum and mean: min(), max() and avg(). We additionally convert the 2m air temperature in K into degC via a <font color=\"green\"><b>simple subtraction</b></font>.\n",
    "\n",
    "* **Minimum**  \n",
    "\n",
    ">for c in (temp2m) return encode (<font color=\"purple\"><b>min (</b></font> c[Lat(52), Long(13),ansi(\"2003-01-01T00:00\":\"2003-12-31T18:00\")] <font color=\"purple\"><b>)</b></font><font color=\"green\"> <b>- 273.15</b></font>,\"csv\")\n",
    "<p><a href='http://earthserver.ecmwf.int/rasdaman/ows?service=WCS&version=2.0.1&request=ProcessCoverages&query=for c in (temp2m) return encode( min(c[Lat(52), Long(13),ansi(\"2003-01-01T00:00\":\"2003-12-31T18:00\")]) - 273.15,\"csv\")' target=\"_blank\"> http://earthserver.ecmwf.int/rasdaman/ows?service=WCS&version=2.0.1&request=ProcessCoverages&query=for c in (temp2m) return encode(min (c[Lat(52), Long(13),ansi(\"2003-01-01T00:00\":\"2003-12-31T18:00\")]) - 273.15,\"csv\")</a></p>"
   ]
  },
  {
   "cell_type": "code",
   "execution_count": 2,
   "metadata": {
    "collapsed": false,
    "slideshow": {
     "slide_type": "subslide"
    }
   },
   "outputs": [
    {
     "name": "stdout",
     "output_type": "stream",
     "text": [
      "-15.9804\n"
     ]
    }
   ],
   "source": [
    "import urllib2\n",
    "url = \"http://earthserver.ecmwf.int/rasdaman/ows?service=WCS&version=2.0.1&request=ProcessCoverages&query=for%20c%20in%20(temp2m)%20return%20encode(%20min(c[Lat(52),%20Long(13),ansi(%222003-01-01T00:00%22:%222003-12-31T18:00%22)])%20-%20273.15,%22csv%22)\"\n",
    "response = urllib2.urlopen(url)\n",
    "html = response.read()\n",
    "print html"
   ]
  },
  {
   "cell_type": "markdown",
   "metadata": {
    "slideshow": {
     "slide_type": "slide"
    }
   },
   "source": [
    "***\n",
    "\n",
    "* **Maximum**\n",
    "   \n",
    ">for c in (temp2m) return encode (<font color=\"purple\"><b>max (</b></font> c[Lat(52), Long(13),ansi(\"2003-01-01T00:00\":\"2003-12-31T18:00\")] <font color=\"purple\"><b>)</b></font><font color=\"green\"><b>- 273.15</b></font>,\"csv\")\n",
    "<p><a href='http://earthserver.ecmwf.int/rasdaman/ows?service=WCS&version=2.0.1&request=ProcessCoverages&query=for c in (temp2m) return encode( max(c[Lat(52), Long(13),ansi(\"2003-01-01T00:00\":\"2003-12-31T18:00\")]) - 273.15,\"csv\")' target=\"_blank\"> http://earthserver.ecmwf.int/rasdaman/ows?service=WCS&version=2.0.1&request=ProcessCoverages&query=for c in (temp2m) return encode(max (c[Lat(52), Long(13),ansi(\"2003-01-01T00:00\":\"2003-12-31T18:00\")]) - 273.15,\"csv\")</a></p>"
   ]
  },
  {
   "cell_type": "code",
   "execution_count": 3,
   "metadata": {
    "collapsed": false,
    "slideshow": {
     "slide_type": "subslide"
    }
   },
   "outputs": [
    {
     "name": "stdout",
     "output_type": "stream",
     "text": [
      "34.4956\n"
     ]
    }
   ],
   "source": [
    "url = \"http://earthserver.ecmwf.int/rasdaman/ows?service=WCS&version=2.0.1&request=ProcessCoverages&query=for%20c%20in%20(temp2m)%20return%20encode(%20max(c[Lat(52),%20Long(13),ansi(%222003-01-01T00:00%22:%222003-12-31T18:00%22)])%20-%20273.15,%22csv%22)\"\n",
    "response = urllib2.urlopen(url)\n",
    "html=response.read()\n",
    "print html"
   ]
  },
  {
   "cell_type": "markdown",
   "metadata": {
    "slideshow": {
     "slide_type": "slide"
    }
   },
   "source": [
    "***\n",
    "\n",
    "* **Average**\n",
    "   \n",
    ">for c in (temp2m) return encode (<font color=\"purple\"><b>avg (</b></font> c[Lat(52), Long(13),ansi(\"2003-01-01T00:00\":\"2003-12-31T18:00\")] <font color=\"purple\"><b>)</b></font><font color=\"green\"> <b>- 273.15</b></font>,\"csv\")\n",
    "<p><a href='http://earthserver.ecmwf.int/rasdaman/ows?service=WCS&version=2.0.1&request=ProcessCoverages&query=for c in (temp2m) return encode( avg(c[Lat(52), Long(13),ansi(\"2003-01-01T00:00\":\"2003-12-31T18:00\")]) - 273.15,\"csv\")' target=\"_blank\"> http://earthserver.ecmwf.int/rasdaman/ows?service=WCS&version=2.0.1&request=ProcessCoverages&query=for c in (temp2m) return encode(avg (c[Lat(52), Long(13),ansi(\"2003-01-01T00:00\":\"2003-12-31T18:00\")]) - 273.15,\"csv\")</a></p>\n"
   ]
  },
  {
   "cell_type": "code",
   "execution_count": 4,
   "metadata": {
    "collapsed": false,
    "slideshow": {
     "slide_type": "subslide"
    }
   },
   "outputs": [
    {
     "name": "stdout",
     "output_type": "stream",
     "text": [
      "10.0596\n"
     ]
    }
   ],
   "source": [
    "url = \"http://earthserver.ecmwf.int/rasdaman/ows?service=WCS&version=2.0.1&request=ProcessCoverages&query=for%20c%20in%20(temp2m)%20return%20encode(%20avg(c[Lat(52),%20Long(13),ansi(%222003-01-01T00:00%22:%222003-12-31T18:00%22)])%20-%20273.15,%22csv%22)\"\n",
    "response = urllib2.urlopen(url)\n",
    "html = response.read()\n",
    "print html"
   ]
  },
  {
   "cell_type": "markdown",
   "metadata": {
    "slideshow": {
     "slide_type": "slide"
    }
   },
   "source": [
    "### Calculate a NDVI from a Landsat8 image\n",
    "\n",
    "The query below calculated on the fly the Normalized-Difference-Vegetation-Index (NDVI) from a Landsat8 satellite image for UTM Zone 31. Landsat 8 provides 11 bands and the NDVI is produced using the bands 4 (red) and 5 (near-infrared).\n",
    "\n",
    "> <font color=\"blue\">for r in (L8_B6_32631_30), g in (L8_B5_32631_30), b in (L8_B4_32631_30)\n",
    "return \n",
    "encode ( {\n",
    "red:   ( (r * 0.00002) - 0.1 ) * 255;\n",
    "green: ( (g * 0.00002) - 0.1 ) * 255;\n",
    "blue:  ( (b * 0.00002) - 0.1 ) * 255\n",
    "}\n",
    "[E(377983:390000),N(4902991:4917275),unix(1433068497)]\n",
    ",\"png\")</font>"
   ]
  },
  {
   "cell_type": "code",
   "execution_count": 5,
   "metadata": {
    "collapsed": false,
    "slideshow": {
     "slide_type": "subslide"
    }
   },
   "outputs": [
    {
     "data": {
      "text/html": [
       "<iframe width=\"1000\" height=\"400\" src='http://eodataservice.org/rasdaman/ows?service=WCS&version=2.0.1&request=ProcessCoverages&query=for%20R%20in%20(L8_B4_32631_30),%20NIR%20in%20(L8_B5_32631_30)%20return%20encode(%20(%20(%20(%20255*((NIR*0.00002)%20-%200.1%20)%20-%20(%20(R*0.00002)%20-%200.1%20)%20)%20/%20(%20((NIR*0.00002)%20-%200.1%20)%20+%20(%20(R*0.00002)%20-%200.1%20)%20)%20)%20[E(377983:390000),N(4902991:4917275),unix(1433068497)]%20)%20,%20%22png%22) '></iframe>"
      ],
      "text/plain": [
       "<IPython.core.display.HTML object>"
      ]
     },
     "metadata": {},
     "output_type": "display_data"
    }
   ],
   "source": [
    "%%html\n",
    "<iframe width=\"1000\" height=\"400\" src='http://eodataservice.org/rasdaman/ows?service=WCS&version=2.0.1&request=ProcessCoverages&query=for%20R%20in%20(L8_B4_32631_30),%20NIR%20in%20(L8_B5_32631_30)%20return%20encode(%20(%20(%20(%20255*((NIR*0.00002)%20-%200.1%20)%20-%20(%20(R*0.00002)%20-%200.1%20)%20)%20/%20(%20((NIR*0.00002)%20-%200.1%20)%20+%20(%20(R*0.00002)%20-%200.1%20)%20)%20)%20[E(377983:390000),N(4902991:4917275),unix(1433068497)]%20)%20,%20%22png%22) '></iframe>"
   ]
  },
  {
   "cell_type": "markdown",
   "metadata": {},
   "source": [
    "We will now showcase some domain specific examples and uses of WCPS"
   ]
  }
 ],
 "metadata": {
  "celltoolbar": "Slideshow",
  "kernelspec": {
   "display_name": "Python 2",
   "language": "python",
   "name": "python2"
  },
  "language_info": {
   "codemirror_mode": {
    "name": "ipython",
    "version": 2
   },
   "file_extension": ".py",
   "mimetype": "text/x-python",
   "name": "python",
   "nbconvert_exporter": "python",
   "pygments_lexer": "ipython2",
   "version": "2.7.8"
  }
 },
 "nbformat": 4,
 "nbformat_minor": 1
}
