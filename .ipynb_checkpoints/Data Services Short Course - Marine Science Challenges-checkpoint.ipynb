{
 "cells": [
  {
   "cell_type": "markdown",
   "metadata": {
    "collapsed": true,
    "slideshow": {
     "slide_type": "slide"
    }
   },
   "source": [
    "<img src=\"img/es2_logo.jpg\" alt=\"EarthServer-logo\" width=\"50%\"  border=\"4\">\n",
    "<br><br>\n",
    "\n",
    "\n",
    "# Web Services for Big Earth Data\n",
    "\n",
    "## Marine Science challenges\n",
    "\n",
    "### Oliver Clements"
   ]
  },
  {
   "cell_type": "markdown",
   "metadata": {
    "slideshow": {
     "slide_type": "slide"
    }
   },
   "source": [
    "# Using uncertainty alongside ocean colour data\n",
    "\n",
    "I work for a group focused on remote sensesed (satellite) data, mainly concerning the colour of the oceans. We use the colour to assess the quantity of chlorophyll, which is a measure of the levels of photosynthetic plankton. Phytoplankton are important as the are the base of the food pyramid and therefore provide a good indicator as to the health of the oceans."
   ]
  },
  {
   "cell_type": "markdown",
   "metadata": {
    "slideshow": {
     "slide_type": "fragment"
    }
   },
   "source": [
    "## ESA climate change initiative\n",
    "\n",
    "CCI is a very large project funded by ESA split over multiple scientific domains. The Ocean Colur sub project has created an almost 20 year archive of ocean colour data. All variables have been caluclated with associated uncertainty. Basically a measure of the confidence in the value calculated. \n",
    "\n",
    "WCPS allows the use of multiple coverages in a single query. This menas that we can integrate the uncertainty data into any queries we do with respect to chlorphyll. Some practical examples follow."
   ]
  },
  {
   "cell_type": "markdown",
   "metadata": {
    "slideshow": {
     "slide_type": "slide"
    }
   },
   "source": [
    "# Find the number of pixels globally that have a RMSD uncertainty of less that 0.2"
   ]
  },
  {
   "cell_type": "markdown",
   "metadata": {
    "slideshow": {
     "slide_type": "fragment"
    }
   },
   "source": [
    "## Query\n",
    "```\n",
    "for  d in (CCI_V2_monthly_chlor_a_rmsd)\n",
    "return \n",
    "encode((float)\n",
    "\n",
    " count(d[ ansi(\"2010-01-31T23:59:00\")] < 0.2 )\n",
    ", \"csv\"\n",
    "\n",
    ")\n",
    "```"
   ]
  },
  {
   "cell_type": "code",
   "execution_count": 1,
   "metadata": {
    "collapsed": false,
    "slideshow": {
     "slide_type": "subslide"
    }
   },
   "outputs": [
    {
     "name": "stdout",
     "output_type": "stream",
     "text": [
      "3971\n"
     ]
    }
   ],
   "source": [
    "import requests\n",
    "\n",
    "query = \"\"\"\n",
    "for  d in (CCI_V2_monthly_chlor_a_rmsd)\n",
    "return \n",
    "encode((float)\n",
    "\n",
    " count(d[ ansi(\"2010-01-31T23:59:00\")] < 0.2 )\n",
    ", \"csv\"\n",
    "\n",
    ")\n",
    "\"\"\"\n",
    "\n",
    "resp = requests.post('http://earthserver.pml.ac.uk/rasdaman/ows/wcps', data = {'query':query})\n",
    "\n",
    "print(resp.text)"
   ]
  },
  {
   "cell_type": "markdown",
   "metadata": {
    "slideshow": {
     "slide_type": "slide"
    }
   },
   "source": [
    "# Calculate chlorphyll average only where uncertainty is below a threshold\n"
   ]
  },
  {
   "cell_type": "markdown",
   "metadata": {
    "slideshow": {
     "slide_type": "fragment"
    }
   },
   "source": [
    "## Query\n",
    "\n",
    "```\n",
    "for c in ( CCI_V2_release_chlor_a ), d in (CCI_V2_monthly_chlor_a_rmsd)\n",
    "return \n",
    "encode((float)\n",
    " avg(\n",
    " c[Long(0:10), Lat(45:55), ansi(\"2010-01-31T23:59:00\")] *\n",
    "  (d[Long(0:10), Lat(45:55), ansi(\"2010-01-31T23:59:00\")] < 0.1 )\n",
    " ), \"csv\"\n",
    "\n",
    ")\n",
    "```"
   ]
  },
  {
   "cell_type": "code",
   "execution_count": 29,
   "metadata": {
    "collapsed": false,
    "slideshow": {
     "slide_type": "subslide"
    }
   },
   "outputs": [
    {
     "name": "stdout",
     "output_type": "stream",
     "text": [
      "0.00611333\n"
     ]
    }
   ],
   "source": [
    "import requests\n",
    "\n",
    "query = \"\"\"\n",
    "for c in ( CCI_V2_release_chlor_a ), d in (CCI_V2_monthly_chlor_a_rmsd)\n",
    "return \n",
    "encode((float)\n",
    " avg(\n",
    " c[Long(0:10), Lat(45:55), ansi(\"2010-01-31T23:59:00\")] *\n",
    "  (d[Long(0:10), Lat(45:55), ansi(\"2010-01-31T23:59:00\")] < 0.35 )\n",
    " ), \"csv\"\n",
    "\n",
    ")\n",
    "\"\"\"\n",
    "\n",
    "resp = requests.post('http://earthserver.pml.ac.uk/rasdaman/ows/wcps', data = {'query':query})\n",
    "\n",
    "print(resp.text)"
   ]
  },
  {
   "cell_type": "code",
   "execution_count": null,
   "metadata": {
    "collapsed": true
   },
   "outputs": [],
   "source": []
  }
 ],
 "metadata": {
  "celltoolbar": "Slideshow",
  "kernelspec": {
   "display_name": "Python 2",
   "language": "python",
   "name": "python2"
  },
  "language_info": {
   "codemirror_mode": {
    "name": "ipython",
    "version": 2
   },
   "file_extension": ".py",
   "mimetype": "text/x-python",
   "name": "python",
   "nbconvert_exporter": "python",
   "pygments_lexer": "ipython2",
   "version": "2.7.5"
  }
 },
 "nbformat": 4,
 "nbformat_minor": 1
}
