{
 "cells": [
  {
   "cell_type": "markdown",
   "metadata": {
    "slideshow": {
     "slide_type": "slide"
    }
   },
   "source": [
    "<img src=\"img/es2_logo.jpg\" alt=\"EarthServer-logo\" width=\"50%\" align=\"left\" border=\"4\"><br><br><br><br><br><br><br><br>\n",
    "\n",
    "# Web Services for Big Earth Data\n",
    "### A practical session on new ways of geospatial data access and processing <br>\n",
    "\n",
    "\n",
    "Oliver Clements, Julia Wagemann, Simone Mantovani, Ramiro Marco Figuera <br>\n",
    "\n",
    "<br>\n",
    "\n",
    "EGU General Assembly 2017 - Short course 60 | Tuesday, 25 April 2017 - 8:30-10:00"
   ]
  },
  {
   "cell_type": "markdown",
   "metadata": {
    "slideshow": {
     "slide_type": "slide"
    }
   },
   "source": [
    "<img src=\"img/es2_logo_small.jpg\" alt=\"EarthServer-logo\" width=\"30%\" align=\"right\" border=\"4\"><br><br><br>"
   ]
  },
  {
   "cell_type": "markdown",
   "metadata": {
    "slideshow": {
     "slide_type": "-"
    }
   },
   "source": [
    "## Today's programme"
   ]
  },
  {
   "cell_type": "code",
   "execution_count": null,
   "metadata": {
    "collapsed": true
   },
   "outputs": [],
   "source": [
    "### Table with programme"
   ]
  },
  {
   "cell_type": "markdown",
   "metadata": {
    "slideshow": {
     "slide_type": "slide"
    }
   },
   "source": [
    "<img src=\"img/es2_logo_small.jpg\" alt=\"EarthServer-logo\" width=\"30%\" align=\"right\" border=\"4\"><br><br><br>"
   ]
  },
  {
   "cell_type": "markdown",
   "metadata": {
    "slideshow": {
     "slide_type": "-"
    }
   },
   "source": [
    "# Introduction to Jupyter Notebooks for Python"
   ]
  },
  {
   "cell_type": "markdown",
   "metadata": {
    "slideshow": {
     "slide_type": "-"
    }
   },
   "source": [
    "<img src=\"img/jupyter-logo.png\" alt=\"Jupyter-logo\" width=\"40%\" align=\"center\"><br><br><br>"
   ]
  },
  {
   "cell_type": "code",
   "execution_count": 1,
   "metadata": {
    "collapsed": true,
    "slideshow": {
     "slide_type": "subslide"
    }
   },
   "outputs": [],
   "source": [
    "# Here comes the jupyter notebook stuff"
   ]
  },
  {
   "cell_type": "markdown",
   "metadata": {
    "slideshow": {
     "slide_type": "slide"
    }
   },
   "source": [
    "<img src=\"img/es2_logo_small.jpg\" alt=\"EarthServer-logo\" width=\"30%\" align=\"right\" border=\"4\"><br><br><br>"
   ]
  },
  {
   "cell_type": "markdown",
   "metadata": {
    "slideshow": {
     "slide_type": "-"
    }
   },
   "source": [
    "Introduction to ...\n",
    "\n",
    "# OGC WEB COVERAGE SERVICE (WCS)\n",
    "\n",
    "\n",
    "\n",
    "\n",
    "\n",
    "\n",
    "\n"
   ]
  },
  {
   "cell_type": "markdown",
   "metadata": {
    "slideshow": {
     "slide_type": "subslide"
    }
   },
   "source": [
    "<img src=\"img/es2_logo_small.jpg\" alt=\"EarthServer-logo\" width=\"30%\" align=\"right\" border=\"4\"><br><br><br>"
   ]
  },
  {
   "cell_type": "markdown",
   "metadata": {
    "slideshow": {
     "slide_type": "-"
    }
   },
   "source": [
    "<b>BUT</b> - before we start...\n",
    "\n",
    "* <h3>who is familiar with WMS?</h3>"
   ]
  },
  {
   "cell_type": "markdown",
   "metadata": {
    "slideshow": {
     "slide_type": "fragment"
    }
   },
   "source": [
    "* <h3>who knows WCS?</h3>"
   ]
  },
  {
   "cell_type": "markdown",
   "metadata": {
    "slideshow": {
     "slide_type": "fragment"
    }
   },
   "source": [
    "* <h3>who has already worked with WCS?</h3>"
   ]
  },
  {
   "cell_type": "markdown",
   "metadata": {
    "slideshow": {
     "slide_type": "slide"
    }
   },
   "source": [
    "<img src=\"img/es2_logo_small.jpg\" alt=\"EarthServer-logo\" width=\"30%\" align=\"right\" border=\"4\"><br><br><br>"
   ]
  },
  {
   "cell_type": "markdown",
   "metadata": {
    "slideshow": {
     "slide_type": "-"
    }
   },
   "source": [
    "<section data-background-transition=\"zoom\">\n",
    "The Web Coverage Service is defined by the Open Geospatial Consortium (OGC) (2012):\n",
    "\n",
    "*<h2 align=\"center\"><b> The OGC WCS supports <b>electronic retrieval</b> of geospatial data as 'coverages' -  <br> that is, digital geospatial information representing space/time varying phenomena</b></h2>*\n",
    "\n",
    "<br>\n",
    "\n",
    "<p align=\"center\">Therefore, WCS is a <b>standard data-access protocol</b> that defines and enables <b>web-based retrieval of multi-dimensional geospatial datasets</b>.</p>\n"
   ]
  },
  {
   "cell_type": "markdown",
   "metadata": {
    "slideshow": {
     "slide_type": "slide"
    }
   },
   "source": [
    "<img src=\"img/es2_logo_small.jpg\" alt=\"EarthServer-logo\" width=\"30%\" align=\"right\" border=\"4\"><br><br><br>"
   ]
  },
  {
   "cell_type": "markdown",
   "metadata": {
    "slideshow": {
     "slide_type": "-"
    }
   },
   "source": [
    "Let's picture WCS as part of the common OGC web service suite...\n",
    "\n",
    "<br>\n",
    "\n",
    "![Overview OGC web service suite](./img/ogc_webservice_suite_0.png)\n"
   ]
  },
  {
   "cell_type": "markdown",
   "metadata": {
    "slideshow": {
     "slide_type": "fragment"
    }
   },
   "source": [
    "![Overview OGC web service suite](./img/ogc_webservice_suite_5.png)"
   ]
  },
  {
   "cell_type": "markdown",
   "metadata": {
    "slideshow": {
     "slide_type": "slide"
    }
   },
   "source": [
    "<img src=\"img/es2_logo_small.jpg\" alt=\"EarthServer-logo\" width=\"30%\" align=\"right\" border=\"4\"><br><br><br>"
   ]
  },
  {
   "cell_type": "markdown",
   "metadata": {
    "slideshow": {
     "slide_type": "-"
    }
   },
   "source": [
    "*<h2 align=\"center\"><b> Unlike Web Mapping Service (WMS), which returns spatial data as an image, WCS returns data in its raw form, with its original semantics.</b></h2>*\n",
    "\n",
    "<br>\n",
    "This allows for further web-based data processing or the building of web applications."
   ]
  },
  {
   "cell_type": "markdown",
   "metadata": {
    "slideshow": {
     "slide_type": "subslide"
    }
   },
   "source": [
    "<img src=\"img/es2_logo_small.jpg\" alt=\"EarthServer-logo\" width=\"30%\" align=\"right\" border=\"4\"><br><br><br>"
   ]
  },
  {
   "cell_type": "markdown",
   "metadata": {
    "slideshow": {
     "slide_type": "-"
    }
   },
   "source": [
    "### Basic Web Coverage Service (WCS) request"
   ]
  },
  {
   "cell_type": "markdown",
   "metadata": {
    "slideshow": {
     "slide_type": "-"
    }
   },
   "source": [
    "A Web Coverage Service request has three main components:\n",
    "\n",
    "* Service endpoint\n",
    "* Request type\n",
    "* optional parameters (depending on request type)"
   ]
  },
  {
   "cell_type": "markdown",
   "metadata": {
    "slideshow": {
     "slide_type": "subslide"
    }
   },
   "source": [
    "<img src=\"img/es2_logo_small.jpg\" alt=\"EarthServer-logo\" width=\"30%\" align=\"right\" border=\"4\">"
   ]
  },
  {
   "cell_type": "markdown",
   "metadata": {
    "slideshow": {
     "slide_type": "-"
    }
   },
   "source": [
    "# Service enpoint <br>\n",
    "<b>http://earthserver.ecmwf.int/rasdaman/ows?service=WCS&version=2.0.1</b>"
   ]
  },
  {
   "cell_type": "markdown",
   "metadata": {
    "slideshow": {
     "slide_type": "subslide"
    }
   },
   "source": [
    "<img src=\"img/es2_logo_small.jpg\" alt=\"EarthServer-logo\" width=\"30%\" align=\"right\" border=\"4\">"
   ]
  },
  {
   "cell_type": "markdown",
   "metadata": {
    "slideshow": {
     "slide_type": "-"
    }
   },
   "source": [
    "# Request type <br>\n",
    "\n",
    "### Get Capabilities<br>\n",
    "\n",
    "Provides general information to the Web Coverage Service Server.\n",
    "\n",
    "http://earthserver.ecmwf.int/rasdaman/ows?service=WCS&version=2.0.1&request=GetCapabilities"
   ]
  },
  {
   "cell_type": "markdown",
   "metadata": {
    "slideshow": {
     "slide_type": "fragment"
    }
   },
   "source": [
    "### Describe Coverage <br>\n",
    "   \n",
    "Returns a <b>Coverage Description</b> document that contains the metadata of a data set encoded in XML.\n",
    "   \n",
    "http://earthserver.ecmwf.int/rasdaman/ows?service=WCS&version=2.0.1&request=DescribeCoverage&coverageId=temp2m"
   ]
  },
  {
   "cell_type": "markdown",
   "metadata": {
    "slideshow": {
     "slide_type": "fragment"
    }
   },
   "source": [
    "### Get Coverage <br>\n",
    "\n",
    "The Get Coverage operation requests the <b>actual spatial data</b>. One has the ability <br> to subset domains (spatial and temporal) and to encode in different output formats. <br>\n",
    "\n",
    "http://earthserver.ecmwf.int/rasdaman/ows?service=WCS&version=2.0.1&request=GetCoverage&coverageId=temp2m&subset=Lat(48.1)&subset=Long(16.2)&subset=ansi(\"2010-01-01T00:00\",\"2010-12-31T18:00\")\n",
    "\n"
   ]
  },
  {
   "cell_type": "markdown",
   "metadata": {
    "slideshow": {
     "slide_type": "slide"
    }
   },
   "source": [
    "<img src=\"img/es2_logo_small.jpg\" alt=\"EarthServer-logo\" width=\"30%\" align=\"right\" border=\"4\">"
   ]
  },
  {
   "cell_type": "markdown",
   "metadata": {},
   "source": [
    "# Optional parameters\n",
    "\n",
    "### Describe Coverage request:\n",
    "\n",
    "* <b>&coverageId=</b>coverageId"
   ]
  },
  {
   "cell_type": "markdown",
   "metadata": {
    "slideshow": {
     "slide_type": "fragment"
    }
   },
   "source": [
    "### Get Coverage request:\n",
    "* <b>&coverageId=</b>coverageId\n",
    "* <b>&subset=Axis1</b>&subset=Axis2\n",
    "* <b>&format=</b>supportedFormat\n",
    "  * e.g netCDF, CSV, PNG"
   ]
  },
  {
   "cell_type": "markdown",
   "metadata": {
    "slideshow": {
     "slide_type": "slide"
    }
   },
   "source": [
    "<img src=\"img/es2_logo_small.jpg\" alt=\"EarthServer-logo\" width=\"30%\" align=\"right\" border=\"4\">"
   ]
  },
  {
   "cell_type": "markdown",
   "metadata": {
    "slideshow": {
     "slide_type": "-"
    }
   },
   "source": [
    "# Introduction to Web Coverage Processing Service"
   ]
  },
  {
   "cell_type": "markdown",
   "metadata": {
    "slideshow": {
     "slide_type": "subslide"
    }
   },
   "source": [
    "\n",
    "\n",
    "*<h2 align=\"center\"><b> A Web Coverage Processing Service (WCPS) is an extension supported by the WCS 2.0 core specification and can optionally be implemented by a WCS server.</b></h2>*"
   ]
  },
  {
   "cell_type": "code",
   "execution_count": null,
   "metadata": {
    "collapsed": true,
    "slideshow": {
     "slide_type": "subslide"
    }
   },
   "outputs": [],
   "source": [
    "TO DO"
   ]
  },
  {
   "cell_type": "markdown",
   "metadata": {
    "slideshow": {
     "slide_type": "slide"
    }
   },
   "source": [
    "<img src=\"img/es2_logo_small.jpg\" alt=\"EarthServer-logo\" width=\"30%\" align=\"right\" border=\"4\">"
   ]
  },
  {
   "cell_type": "markdown",
   "metadata": {
    "slideshow": {
     "slide_type": "-"
    }
   },
   "source": [
    "Enough theory... Let's see how it looks like in practice ...\n",
    "\n",
    "\n",
    "\n",
    "\n"
   ]
  },
  {
   "cell_type": "markdown",
   "metadata": {
    "slideshow": {
     "slide_type": "slide"
    }
   },
   "source": [
    "<img src=\"img/logos_combined.png\" alt=\"ES-2-ECMWF-logo\" width=\"40%\" align=\"right\">"
   ]
  },
  {
   "cell_type": "markdown",
   "metadata": {
    "slideshow": {
     "slide_type": "-"
    }
   },
   "source": [
    "# WCS for Climate Sciences\n",
    "## Creating a climate graph for Vienna\n",
    "\n",
    "TODO: images"
   ]
  },
  {
   "cell_type": "markdown",
   "metadata": {
    "slideshow": {
     "slide_type": "subslide"
    }
   },
   "source": [
    "<img src=\"img/logos_combined.png\" alt=\"ES-2-ECMWF-logo\" width=\"40%\" align=\"right\">"
   ]
  },
  {
   "cell_type": "markdown",
   "metadata": {
    "slideshow": {
     "slide_type": "-"
    }
   },
   "source": [
    "A climate graph is commonly used to describe the average weather of one specific location. It contains:\n",
    "* the long-term <b>average, minimum and maximum air temperature</b> for each month\n",
    "* the long-term <b>average precipitation</b> for each month\n",
    "\n",
    "TODO: climate graph image\n"
   ]
  },
  {
   "cell_type": "markdown",
   "metadata": {
    "slideshow": {
     "slide_type": "subslide"
    }
   },
   "source": [
    "<img src=\"img/logos_combined.png\" alt=\"ES-2-ECMWF-logo\" width=\"40%\" align=\"right\">"
   ]
  },
  {
   "cell_type": "markdown",
   "metadata": {},
   "source": [
    "## Data required\n",
    "<div class=\"alert alert-info\">\n",
    "<ul type=\"square\">\n",
    "<li><b>ERA-Interim reanalysis</b> - 2m air temperature and total precipitation from 1 January 1979 to 31 December 2014</li>\n",
    "<li><b>Format:</b> GRIB</li>\n",
    "<li><b>Spatial resolution:</b> Lat/Lon grid, 0.5 x 0.5 degrees, 720 x 361 gridpoints</li>\n",
    "<li><b>Temporal resolution:</b> 6-hourly</li>\n",
    "<li><b>Data volume:</b> 27 GB per parameter</li>\n",
    "</ul>\n",
    "</div>"
   ]
  },
  {
   "cell_type": "markdown",
   "metadata": {
    "slideshow": {
     "slide_type": "fragment"
    }
   },
   "source": [
    "## Workflow\n",
    "<div class=\"alert alert-success\">\n",
    "<ul type=\"square\">\n",
    "<li>(1) Retrieve monthly mean, min and max 2m air temperature from Jan 1979 to Dec 2014</li>\n",
    "<li>(2) Retrieve monthly sums of total precipitation from Jan 1979 to Dec 2014</li>\n",
    "<li>(3) Calculate averages for every month for every parameter</li>\n",
    "<li>(5) Plot the climate graph</li>\n",
    "</ul>\n",
    "</div>"
   ]
  },
  {
   "cell_type": "markdown",
   "metadata": {
    "slideshow": {
     "slide_type": "subslide"
    }
   },
   "source": [
    "<img src=\"img/logos_combined.png\" alt=\"ES-2-ECMWF-logo\" width=\"40%\" align=\"right\">"
   ]
  },
  {
   "cell_type": "markdown",
   "metadata": {
    "slideshow": {
     "slide_type": "-"
    }
   },
   "source": [
    "## Preparations\n",
    "\n",
    "### Load required libraries"
   ]
  },
  {
   "cell_type": "code",
   "execution_count": 1,
   "metadata": {
    "collapsed": true
   },
   "outputs": [],
   "source": [
    "%matplotlib inline\n",
    "import requests\n",
    "import numpy as np\n",
    "import os\n",
    "import matplotlib.pyplot as plt\n",
    "from datetime import datetime, timedelta\n",
    "from dateutil.relativedelta import relativedelta\n",
    "import collections"
   ]
  },
  {
   "cell_type": "markdown",
   "metadata": {
    "slideshow": {
     "slide_type": "subslide"
    }
   },
   "source": [
    "<img src=\"img/logos_combined.png\" alt=\"ES-2-ECMWF-logo\" width=\"40%\" align=\"right\">"
   ]
  },
  {
   "cell_type": "markdown",
   "metadata": {
    "slideshow": {
     "slide_type": "-"
    }
   },
   "source": [
    "### Define the WCPS query\n",
    "With one WCPS request,\n",
    "* the data can be converted into a different unit, e.g. from Kelvin to degree Celsius, and\n",
    "* a mathematical <b>condenser, e.g. average, minimum or maximum,</b> can be applied to the data values retrieved"
   ]
  },
  {
   "cell_type": "code",
   "execution_count": 2,
   "metadata": {
    "collapsed": true
   },
   "outputs": [],
   "source": [
    "# WCPS query format for 2m air temperature (conversion of Kelvin to degree Celsius)\n",
    "url_fmt_temp = 'http://earthserver.ecmwf.int/rasdaman/ows?service=WCS&version=2.0.1' \\\n",
    "          '&request=ProcessCoverages' \\\n",
    "          '&query=for c in (%s) return encode(%s(c[Lat(%d:%d), Long(%d:%d),ansi(\"%s\":\"%s\")] - 273.15), \"csv\")'\n",
    "\n",
    "# WCPS query format for total precipitation (conversion from m of water to mm of water)\n",
    "url_fmt_precip = 'http://earthserver.ecmwf.int/rasdaman/ows?service=WCS&version=2.0.1' \\\n",
    "          '&request=ProcessCoverages' \\\n",
    "          '&query=for c in (%s) return encode(%s(c[Lat(%d:%d), Long(%d:%d),ansi(\"%s\":\"%s\")] * 1000), \"csv\")'"
   ]
  },
  {
   "cell_type": "markdown",
   "metadata": {
    "slideshow": {
     "slide_type": "subslide"
    }
   },
   "source": [
    "<img src=\"img/logos_combined.png\" alt=\"ES-2-ECMWF-logo\" width=\"40%\" align=\"right\">"
   ]
  },
  {
   "cell_type": "markdown",
   "metadata": {},
   "source": [
    "## Helper functions"
   ]
  },
  {
   "cell_type": "code",
   "execution_count": 3,
   "metadata": {
    "collapsed": true
   },
   "outputs": [],
   "source": [
    "# A list for every first day in the month from Jan 1979 to Dec 2014\n",
    "startDateList = (range(432))\n",
    "x =datetime(1979,1,1,0)\n",
    "for i in range(0,len(startDateList)):\n",
    "    startDateList[i]=x\n",
    "    x=(x.replace(day=1)+timedelta(days=31)).replace(day=1)\n",
    "\n",
    "# A list with every last day of the month from Jan 1979 to Dec 2014\n",
    "endDateList = (range(432))\n",
    "for i in range(0, len(endDateList)):\n",
    "    y = startDateList[i].replace(hour=18) + relativedelta(day=31)\n",
    "    endDateList[i]=y\n",
    "\n",
    "startDateListISO=(range(432))\n",
    "for i in range(0,len(startDateListISO)):\n",
    "    startDateListISO[i]=startDateList[i].date().isoformat()"
   ]
  },
  {
   "cell_type": "markdown",
   "metadata": {
    "slideshow": {
     "slide_type": "subslide"
    }
   },
   "source": [
    "<img src=\"img/logos_combined.png\" alt=\"ES-2-ECMWF-logo\" width=\"40%\" align=\"right\">"
   ]
  },
  {
   "cell_type": "markdown",
   "metadata": {
    "slideshow": {
     "slide_type": "-"
    }
   },
   "source": [
    "## Function to retrieve data from the Web Coverage Service"
   ]
  },
  {
   "cell_type": "code",
   "execution_count": 41,
   "metadata": {
    "collapsed": true
   },
   "outputs": [],
   "source": [
    "# Function that retrieves for every month all data values from the WCS server and appends the outputs to a python list\n",
    "def retrieveFromWCS(param, operation, latMin, latMax, lonMin, lonMax):\n",
    "    if param==\"precipitation\":\n",
    "        startDateList[0]=startDateList[0] + timedelta(days=1)\n",
    "        query = url_fmt_precip\n",
    "    else:\n",
    "        query = url_fmt_temp\n",
    "    monthlyTS = []\n",
    "    for i,j in zip(startDateList,endDateList):\n",
    "        url = query % (param, operation, latMin,latMax,lonMin,lonMax,i.isoformat(),j.isoformat())\n",
    "        r= requests.get(url,\n",
    "                proxies={'http':None}\n",
    "                )\n",
    "\n",
    "        r.raise_for_status()\n",
    "        y= float(r.text)\n",
    "        monthlyTS.append(y)\n",
    "    return monthlyTS"
   ]
  },
  {
   "cell_type": "markdown",
   "metadata": {
    "slideshow": {
     "slide_type": "subslide"
    }
   },
   "source": [
    "<img src=\"img/logos_combined.png\" alt=\"ES-2-ECMWF-logo\" width=\"40%\" align=\"right\">"
   ]
  },
  {
   "cell_type": "markdown",
   "metadata": {},
   "source": [
    "### Workflow step (1): Retrieve average, minimum and maximum surface temperature for Vienna for every month"
   ]
  },
  {
   "cell_type": "code",
   "execution_count": 42,
   "metadata": {
    "collapsed": false
   },
   "outputs": [],
   "source": [
    "latMin = 48.1\n",
    "latMax = 48.1\n",
    "lonMin = 16.2\n",
    "lonMax = 16.2\n",
    "monthlyTS_avg = retrieveFromWCS(\"temp2m\", \"avg\", latMin, latMax, lonMin, lonMax)\n",
    "monthlyTS_max = retrieveFromWCS(\"temp2m\", \"max\", latMin, latMax, lonMin, lonMax)\n",
    "monthlyTS_min = retrieveFromWCS(\"temp2m\", \"min\", latMin, latMax, lonMin, lonMax)"
   ]
  },
  {
   "cell_type": "code",
   "execution_count": 40,
   "metadata": {
    "collapsed": false
   },
   "outputs": [
    {
     "name": "stdout",
     "output_type": "stream",
     "text": [
      "[-4.91767, -0.131748, 5.47745, 7.59886, 14.367, 18.7431, 16.13, 16.8171, 14.0329, 7.69175, 3.48777, 3.29117, -4.04746, 1.36743, 3.61753, 6.02512, 11.028, 16.2651, 17.0399, 17.9616, 13.6613, 8.23892, 1.9016, -1.12394, -3.47984, -0.0823932, 7.27807, 8.80204, 14.1893, 18.0455, 18.2974, 18.3271, 14.6982, 9.47952, 4.30685, -1.84943, -4.87241, -2.14442, 4.38673, 6.88637, 13.7244, 17.512, 19.113, 18.3405, 16.5015, 9.52594, 4.36497, 1.41987, 3.14366, -2.57682, 5.35369, 10.5917, 14.678, 17.0078, 21.2585, 18.9328, 14.7939, 9.07369, 1.1873, -0.578254, -0.554111, -0.600681, 3.00016, 7.73796, 12.7882, 15.9985, 17.3168, 17.506, 13.5514, 10.0243, 3.91792, -0.413904, -7.33179, -3.5907, 2.809, 8.98472, 14.8987, 14.9916, 19.1796, 18.218, 14.5342, 8.08297, 1.17653, 1.72049, -0.905273, -5.95056, 2.25608, 10.2829, 16.3479, 16.5628, 17.9135, 18.398, 13.4072, 8.86959, 3.65167, -1.09676, -5.68462, -1.27265, -1.29257, 9.30236, 11.8051, 16.6926, 19.7837, 16.8595, 16.573, 10.0447, 4.09241, 1.18669, 1.07877, 1.60895, 2.74941, 8.83435, 14.8712, 16.2947, 19.8099, 18.6259, 14.138, 9.39781, 0.305045, 1.48852, -0.426367, 3.23481, 7.08713, 9.75482, 13.6164, 15.4251, 18.8068, 18.109, 14.3094, 9.32361, 1.84745, 0.122722, -1.12574, 3.85969, 7.27762, 7.8859, 14.5753, 16.3044, 17.5325, 18.8215, 12.0575, 9.17195, 4.2874, -1.16572, -0.8593, -4.10092, 5.78103, 7.44782, 10.0075, 16.01, 19.4218, 18.2981, 15.1601, 7.5248, 3.27003, -2.18791, 0.263861, 2.0493, 4.5113, 8.57004, 14.0834, 17.5984, 19.8997, 22.6871, 14.6254, 7.5327, 4.28123, -0.752621, 0.387661, -2.26565, 2.72502, 9.53656, 15.7922, 17.0069, 17.4969, 18.1448, 13.7369, 9.57473, 0.579981, 0.827871, 2.30053, -0.302521, 7.31491, 8.75159, 13.6144, 17.4212, 21.2373, 20.0933, 15.7255, 7.173, 6.51124, 1.03755, -1.38468, 4.17152, 3.29656, 9.4844, 13.5861, 15.6845, 21.1833, 17.7432, 13.0804, 10.5276, 1.35118, -1.4219, -3.75489, -3.97758, 0.61816, 8.49559, 14.333, 17.6779, 17.0372, 17.405, 11.0645, 9.88289, 5.75073, -3.51781, -3.49734, 2.09526, 4.60175, 6.20524, 14.5328, 17.3448, 17.5782, 18.5885, 14.1592, 6.94189, 4.02451, 1.43421, 0.650295, 3.9186, 4.01147, 10.1848, 14.1924, 18.0, 18.8818, 19.1353, 13.6429, 9.96907, 1.71411, -1.76516, -0.520158, -0.246553, 5.88454, 10.1636, 14.4927, 16.8388, 19.4951, 17.6478, 16.4448, 9.73238, 2.29226, -0.184274, -2.83765, 3.15094, 5.1947, 12.2622, 15.8675, 18.7939, 17.3958, 19.8841, 14.0308, 11.9628, 6.58889, 1.0256, -0.925701, 1.86502, 6.10042, 8.29722, 15.977, 15.9763, 19.5719, 20.2492, 12.4641, 12.2821, 2.97485, -3.13171, -0.236684, 4.7331, 5.79705, 8.74179, 16.3616, 19.4087, 20.2081, 19.1573, 13.3179, 8.48528, 6.76837, -0.775885, -1.66148, -2.90494, 5.17848, 8.53482, 16.6036, 21.1564, 20.2971, 22.3466, 14.1004, 6.4884, 5.59071, -0.0868669, -2.41615, 1.81031, 3.00741, 10.1829, 12.6927, 16.718, 18.7051, 19.2504, 14.1468, 10.5512, 4.73176, 0.228779, 0.424078, -2.52306, 2.77763, 9.89207, 14.5993, 17.6846, 19.158, 17.1045, 15.1696, 9.77602, 2.9068, -0.819296, -4.50365, -1.21582, 2.03941, 10.1906, 13.6601, 17.7521, 21.9548, 16.4869, 16.4542, 11.4991, 6.17827, 2.28095, 4.44623, 4.37252, 6.50602, 11.9533, 15.5339, 19.5318, 20.5165, 19.0754, 12.5689, 8.16249, 2.73699, -0.456501, 2.37685, 3.2859, 5.11341, 9.68631, 15.0776, 18.8606, 19.0643, 18.7949, 13.3039, 9.8841, 5.9385, 1.51321, -2.55471, 0.410108, 4.683, 12.9404, 15.0299, 16.6684, 19.9197, 19.6915, 15.9717, 8.92371, 5.80068, 0.503155, -2.84803, -0.230677, 4.76469, 9.52334, 13.5762, 17.8975, 21.0732, 18.3266, 13.022, 7.10504, 6.24823, -3.08222, -0.457071, -0.511858, 5.09295, 11.8546, 14.6388, 18.3008, 18.0548, 19.8737, 16.5741, 8.73766, 2.73776, 2.32431, 1.15833, -3.28493, 7.3049, 9.64725, 15.3152, 18.8567, 19.8839, 20.0968, 15.1663, 9.03254, 6.08782, 0.0109743, -0.30074, 0.055792, 1.80659, 10.3515, 13.5556, 17.1566, 21.2178, 19.8369, 13.8684, 10.1004, 5.03658, 2.25499, 1.67269, 2.88148, 7.74801, 10.9304, 13.4234, 17.9916, 19.9812, 17.4216, 14.6592, 11.2219, 7.32149, 2.69275]\n"
     ]
    }
   ],
   "source": [
    "print monthlyTS_avg"
   ]
  },
  {
   "cell_type": "markdown",
   "metadata": {
    "slideshow": {
     "slide_type": "subslide"
    }
   },
   "source": [
    "<img src=\"img/logos_combined.png\" alt=\"ES-2-ECMWF-logo\" width=\"40%\" align=\"right\">"
   ]
  },
  {
   "cell_type": "markdown",
   "metadata": {},
   "source": [
    "### (2) Retrieve monthly sums of total precipitation for Brussels for every month"
   ]
  },
  {
   "cell_type": "code",
   "execution_count": 43,
   "metadata": {
    "collapsed": true
   },
   "outputs": [],
   "source": [
    "latMin = 48.1\n",
    "latMax = 48.1\n",
    "lonMin = 16.2\n",
    "lonMax = 16.2\n",
    "monthlyTS_sum = retrieveFromWCS(\"precipitation\", \"add\", latMin, latMax, lonMin, lonMax)"
   ]
  },
  {
   "cell_type": "markdown",
   "metadata": {
    "slideshow": {
     "slide_type": "subslide"
    }
   },
   "source": [
    "<img src=\"img/logos_combined.png\" alt=\"ES-2-ECMWF-logo\" width=\"40%\" align=\"right\">"
   ]
  },
  {
   "cell_type": "markdown",
   "metadata": {},
   "source": [
    "### (3) Calculate averages for every month for every parameter"
   ]
  },
  {
   "cell_type": "code",
   "execution_count": 45,
   "metadata": {
    "collapsed": false
   },
   "outputs": [
    {
     "name": "stdout",
     "output_type": "stream",
     "text": [
      "[ -1.22779333   0.19322913   4.49610306   9.34765111  14.26212222\n",
      "  17.39388056  19.205975    18.72934722  14.29768056   9.22212639\n",
      "   3.94305239   0.02649026]\n",
      "[  8.917615    10.42967056  17.1235225   21.99615556  25.91093611\n",
      "  29.22134167  30.59808056  30.17526389  25.40575     20.87379722\n",
      "  14.43974889   9.1475375 ]\n",
      "[-11.83644833  -9.63428583  -4.74295402   0.13980927   4.82656353\n",
      "   8.272815    10.70562444   9.90977694   6.19210917  -0.74145532\n",
      "  -4.43131314  -9.98587   ]\n"
     ]
    }
   ],
   "source": [
    "def calculateMonthlyAvgTS (inputArray):\n",
    "    tmp = np.empty((12))\n",
    "    for i in range(0,12):\n",
    "        month = inputArray[i::12]\n",
    "        tmp[i] = np.mean(month, axis=0)\n",
    "    return tmp\n",
    "\n",
    "monthsAvg = calculateMonthlyAvgTS(monthlyTS_avg)\n",
    "monthsMax = calculateMonthlyAvgTS(monthlyTS_max)\n",
    "monthsMin = calculateMonthlyAvgTS(monthlyTS_min)\n",
    "monthsAvg_precip = calculateMonthlyAvgTS(monthlyTS_sum)\n",
    "print monthsAvg\n",
    "print monthsMax\n",
    "print monthsMin"
   ]
  },
  {
   "cell_type": "markdown",
   "metadata": {
    "slideshow": {
     "slide_type": "subslide"
    }
   },
   "source": [
    "<img src=\"img/logos_combined.png\" alt=\"ES-2-ECMWF-logo\" width=\"40%\" align=\"right\">"
   ]
  },
  {
   "cell_type": "markdown",
   "metadata": {},
   "source": [
    "### (4) Plot the climate graph for Brussels"
   ]
  },
  {
   "cell_type": "code",
   "execution_count": 46,
   "metadata": {
    "collapsed": false
   },
   "outputs": [
    {
     "data": {
      "image/png": "[encoded data removed]",
      "text/plain": [
       "<matplotlib.figure.Figure at 0x7f0384eb5e90>"
      ]
     },
     "metadata": {},
     "output_type": "display_data"
    }
   ],
   "source": [
    "from ggplot import *\n",
    "import pandas\n",
    "import matplotlib.pyplot as plt\n",
    "\n",
    "months = ['Jan','Feb','Mar','Apr','May','Jun','Jul','Aug','Sep','Oct','Nov','Dec']\n",
    "columns = [\"temp_avg\", \"temp_max\", \"temp_min\"]\n",
    "\n",
    "df = pandas.DataFrame(months, columns=['Month'])\n",
    "df['temp_avg'] = pandas.Series(monthsAvg, index=df.index)\n",
    "df['temp_max'] = pandas.Series(monthsMax, index=df.index)\n",
    "df['temp_min'] = pandas.Series(monthsMin, index=df.index)\n",
    "df['precip_avg'] =pandas.Series(monthsAvg_precip, index=df.index)\n",
    "\n",
    "ax1 = df[['Month','precip_avg']].plot(x='Month',kind='bar',color='#D3D3D3', legend=False, \\\n",
    "                                     figsize=(12,9), fontsize=12)\n",
    "\n",
    "ax2 = ax1.twinx()\n",
    "df[['Month', 'temp_avg']].plot(x='Month',linestyle='-',marker='o', ax=ax2,color='black', legend=False)\n",
    "df[['Month', 'temp_max']].plot(x='Month', linestyle='-',marker='o',ax=ax2,color='darkred',legend=False)\n",
    "df[['Month', 'temp_min']].plot(x='Month', linestyle='-',marker='o',ax=ax2,color='darkblue', legend=False)\n",
    "\n",
    "ax1.yaxis.tick_right()\n",
    "ax2.yaxis.tick_left()\n",
    "\n",
    "ax1.set_title(\"Climate graph for Brussels\", fontsize=20)\n",
    "ax1.set_xlabel(\"Month\", fontsize=14)\n",
    "ax2.set_ylabel(\"mm\", labelpad=35, y=0.45, fontsize=14)\n",
    "ax1.set_ylabel(\"degC\", labelpad=35, y=0.45,fontsize=14)\n",
    "\n",
    "plt.tick_params(axis='both', which='major', labelsize=14)\n",
    "ax1.tick_params(axis='both', which='major', labelsize=14)\n",
    "\n",
    "plt.show()"
   ]
  }
 ],
 "metadata": {
  "celltoolbar": "Slideshow",
  "kernelspec": {
   "display_name": "Python 2",
   "language": "python",
   "name": "python2"
  },
  "language_info": {
   "codemirror_mode": {
    "name": "ipython",
    "version": 2
   },
   "file_extension": ".py",
   "mimetype": "text/x-python",
   "name": "python",
   "nbconvert_exporter": "python",
   "pygments_lexer": "ipython2",
   "version": "2.7.8"
  }
 },
 "nbformat": 4,
 "nbformat_minor": 0
}
