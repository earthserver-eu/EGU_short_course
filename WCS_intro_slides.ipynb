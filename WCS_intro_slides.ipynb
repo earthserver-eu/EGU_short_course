{
 "cells": [
  {
   "cell_type": "markdown",
   "metadata": {
    "slideshow": {
     "slide_type": "slide"
    }
   },
   "source": [
    "<img src=\"img/es2_logo.jpg\" alt=\"EarthServer-logo\" width=\"50%\" align=\"left\" border=\"4\"><br><br><br><br><br><br><br><br>\n",
    "\n",
    "# Web Services for Big Earth Data\n",
    "### A practical session on new ways of geospatial data access and processing <br>\n",
    "\n",
    "\n",
    "Oliver Clements, Julia Wagemann, Simone Mantovani, Ramiro Marco Figuera <br>\n",
    "\n",
    "<br>\n",
    "\n",
    "EGU General Assembly 2017 - Short course 60 | Tuesday, 25 April 2017 - 8:30-10:00"
   ]
  },
  {
   "cell_type": "markdown",
   "metadata": {
    "slideshow": {
     "slide_type": "slide"
    }
   },
   "source": [
    "<img src=\"img/es2_logo_small.jpg\" alt=\"EarthServer-logo\" width=\"30%\" align=\"right\" border=\"4\"><br><br><br>"
   ]
  },
  {
   "cell_type": "markdown",
   "metadata": {
    "slideshow": {
     "slide_type": "-"
    }
   },
   "source": [
    "## Today's programme"
   ]
  },
  {
   "cell_type": "code",
   "execution_count": null,
   "metadata": {
    "collapsed": true
   },
   "outputs": [],
   "source": [
    "### Table with programme"
   ]
  },
  {
   "cell_type": "markdown",
   "metadata": {
    "slideshow": {
     "slide_type": "slide"
    }
   },
   "source": [
    "<img src=\"img/es2_logo_small.jpg\" alt=\"EarthServer-logo\" width=\"30%\" align=\"right\" border=\"4\"><br><br><br>"
   ]
  },
  {
   "cell_type": "markdown",
   "metadata": {
    "slideshow": {
     "slide_type": "-"
    }
   },
   "source": [
    "# Introduction to Jupyter Notebooks for Python"
   ]
  },
  {
   "cell_type": "markdown",
   "metadata": {
    "slideshow": {
     "slide_type": "-"
    }
   },
   "source": [
    "<img src=\"img/jupyter-logo.png\" alt=\"Jupyter-logo\" width=\"40%\" align=\"center\"><br><br><br>"
   ]
  },
  {
   "cell_type": "code",
   "execution_count": 1,
   "metadata": {
    "collapsed": true,
    "slideshow": {
     "slide_type": "subslide"
    }
   },
   "outputs": [],
   "source": [
    "# Here comes the jupyter notebook stuff"
   ]
  },
  {
   "cell_type": "markdown",
   "metadata": {
    "slideshow": {
     "slide_type": "slide"
    }
   },
   "source": [
    "<img src=\"img/es2_logo_small.jpg\" alt=\"EarthServer-logo\" width=\"30%\" align=\"right\" border=\"4\"><br><br><br>"
   ]
  },
  {
   "cell_type": "markdown",
   "metadata": {
    "slideshow": {
     "slide_type": "-"
    }
   },
   "source": [
    "Introduction to ...\n",
    "\n",
    "# OGC WEB COVERAGE SERVICE (WCS)\n",
    "\n",
    "\n",
    "\n",
    "\n",
    "\n",
    "\n",
    "\n"
   ]
  },
  {
   "cell_type": "markdown",
   "metadata": {
    "slideshow": {
     "slide_type": "subslide"
    }
   },
   "source": [
    "<img src=\"img/es2_logo_small.jpg\" alt=\"EarthServer-logo\" width=\"30%\" align=\"right\" border=\"4\"><br><br><br>"
   ]
  },
  {
   "cell_type": "markdown",
   "metadata": {
    "slideshow": {
     "slide_type": "-"
    }
   },
   "source": [
    "<b>BUT</b> - before we start...\n",
    "\n",
    "* <h3>who is familiar with WMS?</h3>"
   ]
  },
  {
   "cell_type": "markdown",
   "metadata": {
    "slideshow": {
     "slide_type": "fragment"
    }
   },
   "source": [
    "* <h3>who knows WCS?</h3>"
   ]
  },
  {
   "cell_type": "markdown",
   "metadata": {
    "slideshow": {
     "slide_type": "fragment"
    }
   },
   "source": [
    "* <h3>who has already worked with WCS?</h3>"
   ]
  },
  {
   "cell_type": "markdown",
   "metadata": {
    "slideshow": {
     "slide_type": "slide"
    }
   },
   "source": [
    "<img src=\"img/es2_logo_small.jpg\" alt=\"EarthServer-logo\" width=\"30%\" align=\"right\" border=\"4\"><br><br><br>"
   ]
  },
  {
   "cell_type": "markdown",
   "metadata": {
    "slideshow": {
     "slide_type": "-"
    }
   },
   "source": [
    "<section data-background-transition=\"zoom\">\n",
    "The Web Coverage Service is defined by the Open Geospatial Consortium (OGC) (2012):\n",
    "\n",
    "*<h2 align=\"center\"><b> The OGC WCS supports <b>electronic retrieval</b> of geospatial data as 'coverages' -  <br> that is, digital geospatial information representing space/time varying phenomena</b></h2>*\n",
    "\n",
    "<br>\n",
    "\n",
    "<p align=\"center\">Therefore, WCS is a <b>standard data-access protocol</b> that defines and enables <b>web-based retrieval of multi-dimensional geospatial datasets</b>.</p>\n"
   ]
  },
  {
   "cell_type": "markdown",
   "metadata": {
    "slideshow": {
     "slide_type": "slide"
    }
   },
   "source": [
    "<img src=\"img/es2_logo_small.jpg\" alt=\"EarthServer-logo\" width=\"30%\" align=\"right\" border=\"4\"><br><br><br>"
   ]
  },
  {
   "cell_type": "markdown",
   "metadata": {
    "slideshow": {
     "slide_type": "-"
    }
   },
   "source": [
    "Let's picture WCS as part of the common OGC web service suite...\n",
    "\n",
    "<br>\n",
    "\n",
    "![Overview OGC web service suite](./img/ogc_webservice_suite_0.png)\n"
   ]
  },
  {
   "cell_type": "markdown",
   "metadata": {
    "slideshow": {
     "slide_type": "fragment"
    }
   },
   "source": [
    "![Overview OGC web service suite](./img/ogc_webservice_suite_5.png)"
   ]
  },
  {
   "cell_type": "markdown",
   "metadata": {
    "slideshow": {
     "slide_type": "slide"
    }
   },
   "source": [
    "<img src=\"img/es2_logo_small.jpg\" alt=\"EarthServer-logo\" width=\"30%\" align=\"right\" border=\"4\"><br><br><br>"
   ]
  },
  {
   "cell_type": "markdown",
   "metadata": {
    "slideshow": {
     "slide_type": "-"
    }
   },
   "source": [
    "*<h2 align=\"center\"><b> Unlike Web Mapping Service (WMS), which returns spatial data as an image, WCS returns data in its raw form, with its original semantics.</b></h2>*\n",
    "\n",
    "<br>\n",
    "This allows for further web-based data processing or the building of web applications."
   ]
  },
  {
   "cell_type": "markdown",
   "metadata": {
    "slideshow": {
     "slide_type": "subslide"
    }
   },
   "source": [
    "<img src=\"img/es2_logo_small.jpg\" alt=\"EarthServer-logo\" width=\"30%\" align=\"right\" border=\"4\"><br><br><br>"
   ]
  },
  {
   "cell_type": "markdown",
   "metadata": {
    "slideshow": {
     "slide_type": "-"
    }
   },
   "source": [
    "### Basic Web Coverage Service (WCS) request"
   ]
  },
  {
   "cell_type": "markdown",
   "metadata": {
    "slideshow": {
     "slide_type": "-"
    }
   },
   "source": [
    "A Web Coverage Service request has three main components:\n",
    "\n",
    "* Service endpoint\n",
    "* Request type\n",
    "* optional parameters (depending on request type)"
   ]
  },
  {
   "cell_type": "markdown",
   "metadata": {
    "slideshow": {
     "slide_type": "subslide"
    }
   },
   "source": [
    "<img src=\"img/es2_logo_small.jpg\" alt=\"EarthServer-logo\" width=\"30%\" align=\"right\" border=\"4\">"
   ]
  },
  {
   "cell_type": "markdown",
   "metadata": {
    "slideshow": {
     "slide_type": "-"
    }
   },
   "source": [
    "# Service enpoint <br>\n",
    "<b>http://earthserver.ecmwf.int/rasdaman/ows?service=WCS&version=2.0.1</b>"
   ]
  },
  {
   "cell_type": "markdown",
   "metadata": {
    "slideshow": {
     "slide_type": "subslide"
    }
   },
   "source": [
    "<img src=\"img/es2_logo_small.jpg\" alt=\"EarthServer-logo\" width=\"30%\" align=\"right\" border=\"4\">"
   ]
  },
  {
   "cell_type": "markdown",
   "metadata": {
    "slideshow": {
     "slide_type": "-"
    }
   },
   "source": [
    "# Request type <br>\n",
    "\n",
    "### Get Capabilities<br>\n",
    "\n",
    "Provides general information to the Web Coverage Service Server.\n",
    "\n",
    "http://earthserver.ecmwf.int/rasdaman/ows?service=WCS&version=2.0.1&request=GetCapabilities"
   ]
  },
  {
   "cell_type": "markdown",
   "metadata": {
    "slideshow": {
     "slide_type": "fragment"
    }
   },
   "source": [
    "### Describe Coverage <br>\n",
    "   \n",
    "Returns a <b>Coverage Description</b> document that contains the metadata of a data set encoded in XML.\n",
    "   \n",
    "http://earthserver.ecmwf.int/rasdaman/ows?service=WCS&version=2.0.1&request=DescribeCoverage&coverageId=temp2m"
   ]
  },
  {
   "cell_type": "markdown",
   "metadata": {
    "slideshow": {
     "slide_type": "fragment"
    }
   },
   "source": [
    "### Get Coverage <br>\n",
    "\n",
    "The Get Coverage operation requests the <b>actual spatial data</b>. One has the ability <br> to subset domains (spatial and temporal) and to encode in different output formats. <br>\n",
    "\n",
    "http://earthserver.ecmwf.int/rasdaman/ows?service=WCS&version=2.0.1&request=GetCoverage&coverageId=temp2m&subset=Lat(48.1)&subset=Long(16.2)&subset=ansi(\"2010-01-01T00:00\",\"2010-12-31T18:00\")\n",
    "\n"
   ]
  },
  {
   "cell_type": "markdown",
   "metadata": {
    "slideshow": {
     "slide_type": "slide"
    }
   },
   "source": [
    "<img src=\"img/es2_logo_small.jpg\" alt=\"EarthServer-logo\" width=\"30%\" align=\"right\" border=\"4\">"
   ]
  },
  {
   "cell_type": "markdown",
   "metadata": {},
   "source": [
    "# Optional parameters\n",
    "\n",
    "### Describe Coverage request:\n",
    "\n",
    "* <b>&coverageId=</b>coverageId"
   ]
  },
  {
   "cell_type": "markdown",
   "metadata": {
    "slideshow": {
     "slide_type": "fragment"
    }
   },
   "source": [
    "### Get Coverage request:\n",
    "* <b>&coverageId=</b>coverageId\n",
    "* <b>&subset=Axis1</b>&subset=Axis2\n",
    "* <b>&format=</b>supportedFormat\n",
    "  * e.g netCDF, CSV, PNG"
   ]
  },
  {
   "cell_type": "markdown",
   "metadata": {
    "slideshow": {
     "slide_type": "slide"
    }
   },
   "source": [
    "<img src=\"img/es2_logo_small.jpg\" alt=\"EarthServer-logo\" width=\"30%\" align=\"right\" border=\"4\">"
   ]
  },
  {
   "cell_type": "markdown",
   "metadata": {
    "slideshow": {
     "slide_type": "-"
    }
   },
   "source": [
    "# Introduction to Web Coverage Processing Service"
   ]
  },
  {
   "cell_type": "markdown",
   "metadata": {
    "slideshow": {
     "slide_type": "subslide"
    }
   },
   "source": [
    "\n",
    "\n",
    "*<h2 align=\"center\"><b> A Web Coverage Processing Service (WCPS) is an extension supported by the WCS 2.0 core specification and can optionally be implemented by a WCS server.</b></h2>*"
   ]
  },
  {
   "cell_type": "code",
   "execution_count": null,
   "metadata": {
    "collapsed": true,
    "slideshow": {
     "slide_type": "subslide"
    }
   },
   "outputs": [],
   "source": [
    "TO DO"
   ]
  },
  {
   "cell_type": "markdown",
   "metadata": {
    "slideshow": {
     "slide_type": "slide"
    }
   },
   "source": [
    "<img src=\"img/es2_logo_small.jpg\" alt=\"EarthServer-logo\" width=\"30%\" align=\"right\" border=\"4\">"
   ]
  },
  {
   "cell_type": "markdown",
   "metadata": {
    "slideshow": {
     "slide_type": "-"
    }
   },
   "source": [
    "Enough theory... Let's see how it looks like in practice ...\n",
    "\n",
    "\n",
    "\n",
    "\n"
   ]
  },
  {
   "cell_type": "markdown",
   "metadata": {
    "slideshow": {
     "slide_type": "slide"
    }
   },
   "source": [
    "<img src=\"img/logos_combined.png\" alt=\"ES-2-ECMWF-logo\" width=\"40%\" align=\"right\">"
   ]
  },
  {
   "cell_type": "markdown",
   "metadata": {
    "slideshow": {
     "slide_type": "-"
    }
   },
   "source": [
    "# WCS for Climate Sciences\n",
    "## Creating a climate graph for Vienna\n",
    "\n",
    "TODO: images"
   ]
  },
  {
   "cell_type": "markdown",
   "metadata": {
    "slideshow": {
     "slide_type": "subslide"
    }
   },
   "source": [
    "<img src=\"img/logos_combined.png\" alt=\"ES-2-ECMWF-logo\" width=\"40%\" align=\"right\">"
   ]
  },
  {
   "cell_type": "markdown",
   "metadata": {
    "slideshow": {
     "slide_type": "-"
    }
   },
   "source": [
    "A climate graph is commonly used to describe the average weather of one specific location. It contains:\n",
    "* the long-term <b>average, minimum and maximum air temperature</b> for each month\n",
    "* the long-term <b>average precipitation</b> for each month\n",
    "\n",
    "TODO: climate graph image\n"
   ]
  },
  {
   "cell_type": "markdown",
   "metadata": {
    "slideshow": {
     "slide_type": "subslide"
    }
   },
   "source": [
    "<img src=\"img/logos_combined.png\" alt=\"ES-2-ECMWF-logo\" width=\"40%\" align=\"right\">"
   ]
  },
  {
   "cell_type": "markdown",
   "metadata": {},
   "source": [
    "## Data required\n",
    "<div class=\"alert alert-info\">\n",
    "<ul type=\"square\">\n",
    "<li><b>ERA-Interim reanalysis</b> - 2m air temperature and total precipitation from 1 January 1979 to 31 December 2014</li>\n",
    "<li><b>Format:</b> GRIB</li>\n",
    "<li><b>Spatial resolution:</b> Lat/Lon grid, 0.5 x 0.5 degrees, 720 x 361 gridpoints</li>\n",
    "<li><b>Temporal resolution:</b> 6-hourly</li>\n",
    "<li><b>Data volume:</b> 27 GB per parameter</li>\n",
    "</ul>\n",
    "</div>"
   ]
  },
  {
   "cell_type": "markdown",
   "metadata": {
    "slideshow": {
     "slide_type": "fragment"
    }
   },
   "source": [
    "## Workflow\n",
    "<div class=\"alert alert-success\">\n",
    "<ul type=\"square\">\n",
    "<li>(1) Retrieve monthly mean, min and max 2m air temperature from Jan 1979 to Dec 2014</li>\n",
    "<li>(2) Retrieve monthly sums of total precipitation from Jan 1979 to Dec 2014</li>\n",
    "<li>(3) Calculate averages for every month for every parameter</li>\n",
    "<li>(5) Plot the climate graph</li>\n",
    "</ul>\n",
    "</div>"
   ]
  },
  {
   "cell_type": "markdown",
   "metadata": {
    "slideshow": {
     "slide_type": "subslide"
    }
   },
   "source": [
    "<img src=\"img/logos_combined.png\" alt=\"ES-2-ECMWF-logo\" width=\"40%\" align=\"right\">"
   ]
  },
  {
   "cell_type": "markdown",
   "metadata": {
    "slideshow": {
     "slide_type": "-"
    }
   },
   "source": [
    "## Preparations\n",
    "\n",
    "### Load required libraries"
   ]
  },
  {
   "cell_type": "code",
   "execution_count": 20,
   "metadata": {
    "collapsed": true
   },
   "outputs": [],
   "source": [
    "%matplotlib inline\n",
    "import requests\n",
    "import numpy as np\n",
    "import os\n",
    "import matplotlib.pyplot as plt\n",
    "from datetime import datetime, timedelta\n",
    "from dateutil.relativedelta import relativedelta\n",
    "import collections"
   ]
  },
  {
   "cell_type": "markdown",
   "metadata": {
    "slideshow": {
     "slide_type": "subslide"
    }
   },
   "source": [
    "<img src=\"img/logos_combined.png\" alt=\"ES-2-ECMWF-logo\" width=\"40%\" align=\"right\">"
   ]
  },
  {
   "cell_type": "markdown",
   "metadata": {
    "slideshow": {
     "slide_type": "-"
    }
   },
   "source": [
    "### Define the WCPS query\n",
    "With one WCPS request,\n",
    "* the data can be converted into a different unit, e.g. from Kelvin to degree Celsius, and\n",
    "* a mathematical <b>condenser, e.g. average, minimum or maximum,</b> can be applied to the data values retrieved"
   ]
  },
  {
   "cell_type": "code",
   "execution_count": 1,
   "metadata": {
    "collapsed": true
   },
   "outputs": [],
   "source": [
    "# WCPS query format for 2m air temperature (conversion of Kelvin to degree Celsius)\n",
    "url_fmt_temp = 'http://earthserver.ecmwf.int/rasdaman/ows?service=WCS&version=2.0.1' \\\n",
    "          '&request=ProcessCoverages' \\\n",
    "          '&query=for c in (%s) return encode(%s(c[Lat(%d:%d), Long(%d:%d),ansi(\"%s\":\"%s\")] - 273.15), \"csv\")'\n",
    "\n",
    "# WCPS query format for total precipitation (conversion from m of water to mm of water)\n",
    "url_fmt_precip = 'http://earthserver.ecmwf.int/rasdaman/ows?service=WCS&version=2.0.1' \\\n",
    "          '&request=ProcessCoverages' \\\n",
    "          '&query=for c in (%s) return encode(%s(c[Lat(%d:%d), Long(%d:%d),ansi(\"%s\":\"%s\")] * 1000), \"csv\")'"
   ]
  },
  {
   "cell_type": "markdown",
   "metadata": {
    "slideshow": {
     "slide_type": "subslide"
    }
   },
   "source": [
    "<img src=\"img/logos_combined.png\" alt=\"ES-2-ECMWF-logo\" width=\"40%\" align=\"right\">"
   ]
  },
  {
   "cell_type": "markdown",
   "metadata": {},
   "source": [
    "## Helper functions"
   ]
  },
  {
   "cell_type": "code",
   "execution_count": 22,
   "metadata": {
    "collapsed": true
   },
   "outputs": [],
   "source": [
    "# A list for every first day in the month from Jan 1979 to Dec 2014\n",
    "startDateList = (range(432))\n",
    "x =datetime(1979,1,1,0)\n",
    "for i in range(0,len(startDateList)):\n",
    "    startDateList[i]=x\n",
    "    x=(x.replace(day=1)+timedelta(days=31)).replace(day=1)\n",
    "\n",
    "# A list with every last day of the month from Jan 1979 to Dec 2014\n",
    "endDateList = (range(432))\n",
    "for i in range(0, len(endDateList)):\n",
    "    y = startDateList[i].replace(hour=18) + relativedelta(day=31)\n",
    "    endDateList[i]=y\n",
    "\n",
    "startDateListISO=(range(432))\n",
    "for i in range(0,len(startDateListISO)):\n",
    "    startDateListISO[i]=startDateList[i].date().isoformat()"
   ]
  },
  {
   "cell_type": "markdown",
   "metadata": {
    "slideshow": {
     "slide_type": "subslide"
    }
   },
   "source": [
    "<img src=\"img/logos_combined.png\" alt=\"ES-2-ECMWF-logo\" width=\"40%\" align=\"right\">"
   ]
  },
  {
   "cell_type": "markdown",
   "metadata": {
    "slideshow": {
     "slide_type": "-"
    }
   },
   "source": [
    "## Function to retrieve data from the Web Coverage Service"
   ]
  },
  {
   "cell_type": "code",
   "execution_count": 23,
   "metadata": {
    "collapsed": true
   },
   "outputs": [],
   "source": [
    "# Function that retrieves for every month all data values from the WCS server and appends the outputs to a python list\n",
    "def retrieveFromWCS(param, operation, latMin, latMax, lonMin, lonMax):\n",
    "    if param==\"precipitation\":\n",
    "        startDateList[0]=startDateList[0] + timedelta(days=1)\n",
    "        query = url_fmt_precip\n",
    "    else:\n",
    "        query = url_fmt_temp\n",
    "    monthlyTS = []\n",
    "    for i,j in zip(startDateList,endDateList):\n",
    "        url = query % (param, operation, latMin,latMax,lonMin,lonMax,i.isoformat(),j.isoformat())\n",
    "        print url\n",
    "        r= requests.get(url,\n",
    "                proxies={'http':None}\n",
    "                )\n",
    "\n",
    "        r.raise_for_status()\n",
    "        y= [float(a) for a in r.text[1:-1].split(\",\")]\n",
    "        monthlyTS.append(y[0])\n",
    "    return monthlyTS"
   ]
  },
  {
   "cell_type": "markdown",
   "metadata": {
    "slideshow": {
     "slide_type": "subslide"
    }
   },
   "source": [
    "<img src=\"img/logos_combined.png\" alt=\"ES-2-ECMWF-logo\" width=\"40%\" align=\"right\">"
   ]
  },
  {
   "cell_type": "markdown",
   "metadata": {},
   "source": [
    "### Workflow step (1): Retrieve average, minimum and maximum surface temperature for Vienna for every month"
   ]
  },
  {
   "cell_type": "code",
   "execution_count": 25,
   "metadata": {
    "collapsed": false
   },
   "outputs": [],
   "source": [
    "latMin = 48.1\n",
    "latMax = 48.1\n",
    "lonMin = 16.2\n",
    "lonMax = 16.2\n",
    "monthlyTS_avg = retrieveFromWCS(\"temp2m\", \"avg\", latMin, latMax, lonMin, lonMax)\n",
    "monthlyTS_max = retrieveFromWCS(\"temp2m\", \"max\", latMin, latMax, lonMin, lonMax)\n",
    "monthlyTS_min = retrieveFromWCS(\"temp2m\", \"min\", latMin, latMax, lonMin, lonMax)"
   ]
  },
  {
   "cell_type": "code",
   "execution_count": 26,
   "metadata": {
    "collapsed": false
   },
   "outputs": [
    {
     "data": {
      "text/plain": [
       "[4.91766,\n",
       " 0.13174,\n",
       " 0.47744,\n",
       " 0.59886,\n",
       " 4.36703,\n",
       " 8.74309,\n",
       " 6.12998,\n",
       " 6.81708,\n",
       " 4.03287,\n",
       " 0.69174,\n",
       " 0.48776,\n",
       " 0.29116,\n",
       " 4.04746,\n",
       " 0.36742,\n",
       " 0.61753,\n",
       " 0.02512,\n",
       " 1.02795,\n",
       " 6.26507,\n",
       " 7.0399,\n",
       " 7.96156,\n",
       " 3.66134,\n",
       " 0.23891,\n",
       " 0.9016,\n",
       " 1.12394,\n",
       " 3.47984,\n",
       " 0.08239,\n",
       " 0.27806,\n",
       " 0.80204,\n",
       " 4.1893,\n",
       " 8.04555,\n",
       " 8.29741,\n",
       " 8.32711,\n",
       " 4.69815,\n",
       " 0.47951,\n",
       " 0.30684,\n",
       " 1.84943,\n",
       " 4.87241,\n",
       " 2.14442,\n",
       " 0.38672,\n",
       " 0.88637,\n",
       " 3.72436,\n",
       " 7.51203,\n",
       " 9.11301,\n",
       " 8.34049,\n",
       " 6.50151,\n",
       " 0.52593,\n",
       " 0.36497,\n",
       " 0.41986,\n",
       " 0.14366,\n",
       " 2.57681,\n",
       " 0.35368,\n",
       " 0.59174,\n",
       " 4.67796,\n",
       " 7.00779,\n",
       " 1.25847,\n",
       " 8.93279,\n",
       " 4.79385,\n",
       " 0.07369,\n",
       " 0.18729,\n",
       " 0.57825,\n",
       " 0.55411,\n",
       " 0.60068,\n",
       " 0.00015,\n",
       " 0.73796,\n",
       " 2.78822,\n",
       " 5.99851,\n",
       " 7.31682,\n",
       " 7.50596,\n",
       " 3.55136,\n",
       " 0.02428,\n",
       " 0.91792,\n",
       " 0.4139,\n",
       " 7.33179,\n",
       " 3.5907,\n",
       " 0.809,\n",
       " 0.98471,\n",
       " 4.89875,\n",
       " 4.99161,\n",
       " 9.17964,\n",
       " 8.21795,\n",
       " 4.53419,\n",
       " 0.08296,\n",
       " 0.17652,\n",
       " 0.72048,\n",
       " 0.90527,\n",
       " 5.95056,\n",
       " 0.25608,\n",
       " 0.2829,\n",
       " 6.34791,\n",
       " 6.56284,\n",
       " 7.91345,\n",
       " 8.398,\n",
       " 3.40719,\n",
       " 0.86958,\n",
       " 0.65167,\n",
       " 1.09675,\n",
       " 5.68462,\n",
       " 1.27265,\n",
       " 1.29256,\n",
       " 0.30235,\n",
       " 1.8051,\n",
       " 6.69262,\n",
       " 9.7837,\n",
       " 6.85946,\n",
       " 6.57298,\n",
       " 0.04471,\n",
       " 0.09241,\n",
       " 0.18669,\n",
       " 0.07877,\n",
       " 0.60894,\n",
       " 0.7494,\n",
       " 0.83434,\n",
       " 4.87116,\n",
       " 6.29474,\n",
       " 9.80989,\n",
       " 8.62586,\n",
       " 4.13803,\n",
       " 0.3978,\n",
       " 0.30504,\n",
       " 0.48852,\n",
       " 0.42636,\n",
       " 0.2348,\n",
       " 0.08713,\n",
       " 0.75482,\n",
       " 3.61639,\n",
       " 5.42506,\n",
       " 8.80682,\n",
       " 8.10901,\n",
       " 4.30942,\n",
       " 0.32361,\n",
       " 0.84745,\n",
       " 0.12272,\n",
       " 1.12574,\n",
       " 0.85969,\n",
       " 0.27762,\n",
       " 0.8859,\n",
       " 4.57534,\n",
       " 6.30444,\n",
       " 7.53253,\n",
       " 8.82153,\n",
       " 2.05753,\n",
       " 0.17195,\n",
       " 0.28739,\n",
       " 1.16571,\n",
       " 0.8593,\n",
       " 4.10092,\n",
       " 0.78103,\n",
       " 0.44782,\n",
       " 0.00753,\n",
       " 6.00999,\n",
       " 9.42183,\n",
       " 8.29805,\n",
       " 5.16013,\n",
       " 0.5248,\n",
       " 0.27003,\n",
       " 2.18791,\n",
       " 0.26386,\n",
       " 0.0493,\n",
       " 0.5113,\n",
       " 0.57004,\n",
       " 4.08338,\n",
       " 7.59836,\n",
       " 9.89972,\n",
       " 2.68705,\n",
       " 4.62543,\n",
       " 0.53269,\n",
       " 0.28122,\n",
       " 0.75262,\n",
       " 0.38766,\n",
       " 2.26565,\n",
       " 0.72502,\n",
       " 0.53656,\n",
       " 5.7922,\n",
       " 7.00687,\n",
       " 7.4969,\n",
       " 8.14481,\n",
       " 3.73687,\n",
       " 0.57472,\n",
       " 0.57998,\n",
       " 0.82787,\n",
       " 0.30052,\n",
       " 0.30252,\n",
       " 0.3149,\n",
       " 0.75158,\n",
       " 3.61435,\n",
       " 7.42124,\n",
       " 1.23731,\n",
       " 0.09326,\n",
       " 5.72548,\n",
       " 0.173,\n",
       " 0.51124,\n",
       " 0.03755,\n",
       " 1.38468,\n",
       " 0.17151,\n",
       " 0.29655,\n",
       " 0.48439,\n",
       " 3.58605,\n",
       " 5.68446,\n",
       " 1.18327,\n",
       " 7.74318,\n",
       " 3.0804,\n",
       " 0.52755,\n",
       " 0.35118,\n",
       " 1.42189,\n",
       " 3.75488,\n",
       " 3.97757,\n",
       " 0.61816,\n",
       " 0.49558,\n",
       " 4.33295,\n",
       " 7.67791,\n",
       " 7.03716,\n",
       " 7.40502,\n",
       " 1.06447,\n",
       " 0.88288,\n",
       " 0.75072,\n",
       " 3.5178,\n",
       " 3.49733,\n",
       " 0.09526,\n",
       " 0.60174,\n",
       " 0.20523,\n",
       " 4.5328,\n",
       " 7.34483,\n",
       " 7.57818,\n",
       " 8.58845,\n",
       " 4.15922,\n",
       " 0.94188,\n",
       " 0.02451,\n",
       " 0.43421,\n",
       " 0.65029,\n",
       " 0.9186,\n",
       " 0.01146,\n",
       " 0.18476,\n",
       " 4.19238,\n",
       " 8.00001,\n",
       " 8.88178,\n",
       " 9.13531,\n",
       " 3.64285,\n",
       " 0.96907,\n",
       " 0.71411,\n",
       " 1.76515,\n",
       " 0.52015,\n",
       " 0.24655,\n",
       " 0.88453,\n",
       " 0.16362,\n",
       " 4.49267,\n",
       " 6.83876,\n",
       " 9.49506,\n",
       " 7.64775,\n",
       " 6.44484,\n",
       " 0.73238,\n",
       " 0.29225,\n",
       " 0.18427,\n",
       " 2.83764,\n",
       " 0.15093,\n",
       " 0.19469,\n",
       " 2.26215,\n",
       " 5.86751,\n",
       " 8.79387,\n",
       " 7.39577,\n",
       " 9.88411,\n",
       " 4.03084,\n",
       " 1.9628,\n",
       " 0.58889,\n",
       " 0.0256,\n",
       " 0.9257,\n",
       " 0.86501,\n",
       " 0.10041,\n",
       " 0.29722,\n",
       " 5.97703,\n",
       " 5.9763,\n",
       " 9.57187,\n",
       " 0.24922,\n",
       " 2.46412,\n",
       " 2.28207,\n",
       " 0.97485,\n",
       " 3.13171,\n",
       " 0.23668,\n",
       " 0.73309,\n",
       " 0.79705,\n",
       " 0.74179,\n",
       " 6.36164,\n",
       " 9.40869,\n",
       " 0.20805,\n",
       " 9.15733,\n",
       " 3.31788,\n",
       " 0.48527,\n",
       " 0.76836,\n",
       " 0.77588,\n",
       " 1.66148,\n",
       " 2.90493,\n",
       " 0.17848,\n",
       " 0.53482,\n",
       " 6.60357,\n",
       " 1.15639,\n",
       " 0.29712,\n",
       " 2.34656,\n",
       " 4.10044,\n",
       " 0.48839,\n",
       " 0.59071,\n",
       " 0.08686,\n",
       " 2.41614,\n",
       " 0.81031,\n",
       " 0.00741,\n",
       " 0.18285,\n",
       " 2.69272,\n",
       " 6.71799,\n",
       " 8.70507,\n",
       " 9.25041,\n",
       " 4.14679,\n",
       " 0.55115,\n",
       " 0.73175,\n",
       " 0.22877,\n",
       " 0.42407,\n",
       " 2.52305,\n",
       " 0.77763,\n",
       " 0.89206,\n",
       " 4.59929,\n",
       " 7.68458,\n",
       " 9.158,\n",
       " 7.10452,\n",
       " 5.16955,\n",
       " 0.77602,\n",
       " 0.90679,\n",
       " 0.81929,\n",
       " 4.50365,\n",
       " 1.21582,\n",
       " 0.03941,\n",
       " 0.19056,\n",
       " 3.66014,\n",
       " 7.75205,\n",
       " 1.95483,\n",
       " 6.48685,\n",
       " 6.45421,\n",
       " 1.49914,\n",
       " 0.17827,\n",
       " 0.28095,\n",
       " 0.44623,\n",
       " 0.37251,\n",
       " 0.50602,\n",
       " 1.95329,\n",
       " 5.53386,\n",
       " 9.53179,\n",
       " 0.51649,\n",
       " 9.07545,\n",
       " 2.56889,\n",
       " 0.16249,\n",
       " 0.73699,\n",
       " 0.4565,\n",
       " 0.37684,\n",
       " 0.2859,\n",
       " 0.11341,\n",
       " 0.6863,\n",
       " 5.07757,\n",
       " 8.86063,\n",
       " 9.06429,\n",
       " 8.79492,\n",
       " 3.30389,\n",
       " 0.88409,\n",
       " 0.9385,\n",
       " 0.51321,\n",
       " 2.55471,\n",
       " 0.4101,\n",
       " 0.683,\n",
       " 2.94037,\n",
       " 5.02991,\n",
       " 6.66843,\n",
       " 9.91971,\n",
       " 9.69151,\n",
       " 5.97165,\n",
       " 0.9237,\n",
       " 0.80068,\n",
       " 0.50315,\n",
       " 2.84802,\n",
       " 0.23067,\n",
       " 0.76469,\n",
       " 0.52334,\n",
       " 3.57616,\n",
       " 7.8975,\n",
       " 1.0732,\n",
       " 8.32655,\n",
       " 3.02198,\n",
       " 0.10503,\n",
       " 0.24823,\n",
       " 3.08222,\n",
       " 0.45707,\n",
       " 0.51185,\n",
       " 0.09294,\n",
       " 1.85459,\n",
       " 4.63875,\n",
       " 8.30078,\n",
       " 8.05481,\n",
       " 9.87374,\n",
       " 6.57405,\n",
       " 0.73766,\n",
       " 0.73776,\n",
       " 0.3243,\n",
       " 0.15833,\n",
       " 3.28492,\n",
       " 0.3049,\n",
       " 0.64725,\n",
       " 5.31524,\n",
       " 8.85666,\n",
       " 9.88388,\n",
       " 0.09684,\n",
       " 5.16632,\n",
       " 0.03254,\n",
       " 0.08782,\n",
       " 0.01097,\n",
       " 0.30074,\n",
       " 0.05579,\n",
       " 0.80658,\n",
       " 0.35146,\n",
       " 3.5556,\n",
       " 7.15662,\n",
       " 1.21779,\n",
       " 9.83692,\n",
       " 3.86844,\n",
       " 0.10041,\n",
       " 0.03657,\n",
       " 0.25498,\n",
       " 0.67269,\n",
       " 0.88148,\n",
       " 0.74801,\n",
       " 0.93041,\n",
       " 3.42344,\n",
       " 7.99158,\n",
       " 9.98121,\n",
       " 7.42159,\n",
       " 4.6592,\n",
       " 1.22193,\n",
       " 0.32149,\n",
       " 0.69274]"
      ]
     },
     "execution_count": 26,
     "metadata": {},
     "output_type": "execute_result"
    }
   ],
   "source": [
    "monthlyTS_avg"
   ]
  },
  {
   "cell_type": "markdown",
   "metadata": {
    "slideshow": {
     "slide_type": "subslide"
    }
   },
   "source": [
    "<img src=\"img/logos_combined.png\" alt=\"ES-2-ECMWF-logo\" width=\"40%\" align=\"right\">"
   ]
  },
  {
   "cell_type": "markdown",
   "metadata": {},
   "source": [
    "### (2) Retrieve monthly sums of total precipitation for Brussels for every month"
   ]
  },
  {
   "cell_type": "code",
   "execution_count": null,
   "metadata": {
    "collapsed": true
   },
   "outputs": [],
   "source": [
    "latMin = 48.1\n",
    "latMax = 48.1\n",
    "lonMin = 16.2\n",
    "lonMax = 16.2\n",
    "monthlyTS_sum = retrieveFromWCS(\"precipitation\", \"add\", latMin, latMax, lonMin, lonMax)"
   ]
  },
  {
   "cell_type": "markdown",
   "metadata": {
    "slideshow": {
     "slide_type": "subslide"
    }
   },
   "source": [
    "<img src=\"img/logos_combined.png\" alt=\"ES-2-ECMWF-logo\" width=\"40%\" align=\"right\">"
   ]
  },
  {
   "cell_type": "markdown",
   "metadata": {},
   "source": [
    "### (3) Calculate averages for every month for every parameter"
   ]
  },
  {
   "cell_type": "code",
   "execution_count": 19,
   "metadata": {
    "collapsed": false
   },
   "outputs": [
    {
     "ename": "NameError",
     "evalue": "name 'monthlyTS_avg' is not defined",
     "output_type": "error",
     "traceback": [
      "\u001b[0;31m---------------------------------------------------------------------------\u001b[0m",
      "\u001b[0;31mNameError\u001b[0m                                 Traceback (most recent call last)",
      "\u001b[0;32m<ipython-input-19-25c5bbd38232>\u001b[0m in \u001b[0;36m<module>\u001b[0;34m()\u001b[0m\n\u001b[1;32m      6\u001b[0m     \u001b[0;32mreturn\u001b[0m \u001b[0mtmp\u001b[0m\u001b[0;34m\u001b[0m\u001b[0m\n\u001b[1;32m      7\u001b[0m \u001b[0;34m\u001b[0m\u001b[0m\n\u001b[0;32m----> 8\u001b[0;31m \u001b[0mmonthsAvg\u001b[0m \u001b[0;34m=\u001b[0m \u001b[0mcalculateMonthlyAvgTS\u001b[0m\u001b[0;34m(\u001b[0m\u001b[0mmonthlyTS_avg\u001b[0m\u001b[0;34m)\u001b[0m\u001b[0;34m\u001b[0m\u001b[0m\n\u001b[0m\u001b[1;32m      9\u001b[0m \u001b[0mmonthsMax\u001b[0m \u001b[0;34m=\u001b[0m \u001b[0mcalculateMonthlyAvgTS\u001b[0m\u001b[0;34m(\u001b[0m\u001b[0mmonthlyTS_max\u001b[0m\u001b[0;34m)\u001b[0m\u001b[0;34m\u001b[0m\u001b[0m\n\u001b[1;32m     10\u001b[0m \u001b[0mmonthsMin\u001b[0m \u001b[0;34m=\u001b[0m \u001b[0mcalculateMonthlyAvgTS\u001b[0m\u001b[0;34m(\u001b[0m\u001b[0mmonthlyTS_min\u001b[0m\u001b[0;34m)\u001b[0m\u001b[0;34m\u001b[0m\u001b[0m\n",
      "\u001b[0;31mNameError\u001b[0m: name 'monthlyTS_avg' is not defined"
     ]
    }
   ],
   "source": [
    "def calculateMonthlyAvgTS (inputArray):\n",
    "    tmp = np.empty((12))\n",
    "    for i in range(0,12):\n",
    "        month = inputArray[i::12]\n",
    "        tmp[i] = np.mean(month, axis=0)\n",
    "    return tmp\n",
    "\n",
    "monthsAvg = calculateMonthlyAvgTS(monthlyTS_avg)\n",
    "monthsMax = calculateMonthlyAvgTS(monthlyTS_max)\n",
    "monthsMin = calculateMonthlyAvgTS(monthlyTS_min)\n",
    "monthsAvg_precip = calculateMonthlyAvgTS(monthlyTS_sum)\n",
    "monthsAvg\n",
    "monthsMax\n",
    "monthsMin"
   ]
  },
  {
   "cell_type": "markdown",
   "metadata": {
    "slideshow": {
     "slide_type": "subslide"
    }
   },
   "source": [
    "<img src=\"img/logos_combined.png\" alt=\"ES-2-ECMWF-logo\" width=\"40%\" align=\"right\">"
   ]
  },
  {
   "cell_type": "markdown",
   "metadata": {},
   "source": [
    "### (4) Plot the climate graph for Brussels"
   ]
  },
  {
   "cell_type": "code",
   "execution_count": null,
   "metadata": {
    "collapsed": true
   },
   "outputs": [],
   "source": [
    "from ggplot import *\n",
    "import pandas\n",
    "import matplotlib.pyplot as plt\n",
    "\n",
    "months = ['Jan','Feb','Mar','Apr','May','Jun','Jul','Aug','Sep','Oct','Nov','Dec']\n",
    "columns = [\"temp_avg\", \"temp_max\", \"temp_min\"]\n",
    "\n",
    "df = pandas.DataFrame(months, columns=['Month'])\n",
    "df['temp_avg'] = pandas.Series(monthsAvg, index=df.index)\n",
    "df['temp_max'] = pandas.Series(monthsMax, index=df.index)\n",
    "df['temp_min'] = pandas.Series(monthsMin, index=df.index)\n",
    "df['precip_avg'] =pandas.Series(monthsAvg_precip, index=df.index)\n",
    "\n",
    "ax1 = df[['Month','precip_avg']].plot(x='Month',kind='bar',color='#D3D3D3', legend=False, \\\n",
    "                                     figsize=(12,9), fontsize=12)\n",
    "\n",
    "ax2 = ax1.twinx()\n",
    "df[['Month', 'temp_avg']].plot(x='Month',linestyle='-',marker='o', ax=ax2,color='black', legend=False)\n",
    "df[['Month', 'temp_max']].plot(x='Month', linestyle='-',marker='o',ax=ax2,color='darkred',legend=False)\n",
    "df[['Month', 'temp_min']].plot(x='Month', linestyle='-',marker='o',ax=ax2,color='darkblue', legend=False)\n",
    "\n",
    "ax1.yaxis.tick_right()\n",
    "ax2.yaxis.tick_left()\n",
    "\n",
    "ax1.set_title(\"Climate graph for Brussels\", fontsize=20)\n",
    "ax1.set_xlabel(\"Month\", fontsize=14)\n",
    "ax2.set_ylabel(\"mm\", labelpad=35, y=0.45, fontsize=14)\n",
    "ax1.set_ylabel(\"degC\", labelpad=35, y=0.45,fontsize=14)\n",
    "\n",
    "plt.tick_params(axis='both', which='major', labelsize=14)\n",
    "ax1.tick_params(axis='both', which='major', labelsize=14)\n",
    "\n",
    "plt.show()"
   ]
  }
 ],
 "metadata": {
  "celltoolbar": "Slideshow",
  "kernelspec": {
   "display_name": "Python 2",
   "language": "python",
   "name": "python2"
  },
  "language_info": {
   "codemirror_mode": {
    "name": "ipython",
    "version": 2
   },
   "file_extension": ".py",
   "mimetype": "text/x-python",
   "name": "python",
   "nbconvert_exporter": "python",
   "pygments_lexer": "ipython2",
   "version": "2.7.11"
  }
 },
 "nbformat": 4,
 "nbformat_minor": 0
}
