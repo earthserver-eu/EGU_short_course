{
 "cells": [
  {
   "cell_type": "markdown",
   "metadata": {
    "collapsed": true,
    "slideshow": {
     "slide_type": "slide"
    }
   },
   "source": [
    "<img src=\"img/es2_logo.jpg\" alt=\"EarthServer-logo\" width=\"50%\"  border=\"4\">\n",
    "<br><br>\n",
    "\n",
    "\n",
    "# Web Services for Big Earth Data\n",
    "\n",
    "## Intoduction to Web Coverage Service\n",
    "\n",
    "### Julia Wagemann"
   ]
  },
  {
   "cell_type": "markdown",
   "metadata": {
    "slideshow": {
     "slide_type": "slide"
    }
   },
   "source": [
    "<b>BUT</b> - before we start...\n",
    "\n",
    "* <h3>who is familiar with WMS?</h3>"
   ]
  },
  {
   "cell_type": "markdown",
   "metadata": {
    "slideshow": {
     "slide_type": "fragment"
    }
   },
   "source": [
    "* <h3>who knows WCS?</h3>"
   ]
  },
  {
   "cell_type": "markdown",
   "metadata": {
    "slideshow": {
     "slide_type": "fragment"
    }
   },
   "source": [
    "* <h3>who has already worked with WCS?</h3>"
   ]
  },
  {
   "cell_type": "markdown",
   "metadata": {
    "slideshow": {
     "slide_type": "slide"
    }
   },
   "source": [
    "\n",
    "The Web Coverage Service is defined by the Open Geospatial Consortium (OGC) (2012):\n",
    "\n",
    "*<h2 align=\"center\"><b> The OGC WCS supports <b>electronic retrieval</b> of geospatial data as 'coverages' -  <br> that is, digital geospatial information representing space/time varying phenomena</b></h2>*\n",
    "\n",
    "<br>\n",
    "\n",
    "<p align=\"center\">Therefore, WCS is a <b>standard data-access protocol</b> that defines and enables <b>web-based retrieval of multi-dimensional geospatial datasets</b>.</p>\n"
   ]
  },
  {
   "cell_type": "markdown",
   "metadata": {
    "slideshow": {
     "slide_type": "slide"
    }
   },
   "source": [
    "Let's picture WCS as part of the common OGC web service suite...\n",
    "\n",
    "<br>\n",
    "\n",
    "![Overview OGC web service suite](./img/ogc_webservice_suite_0.png)\n"
   ]
  },
  {
   "cell_type": "markdown",
   "metadata": {
    "slideshow": {
     "slide_type": "fragment"
    }
   },
   "source": [
    "![Overview OGC web service suite](./img/ogc_webservice_suite_5.png)"
   ]
  },
  {
   "cell_type": "markdown",
   "metadata": {
    "slideshow": {
     "slide_type": "slide"
    }
   },
   "source": [
    "*<h2 align=\"center\"><b> Unlike Web Mapping Service (WMS), which returns spatial data as an image, WCS returns data in its raw form, with its original semantics.</b></h2>*\n",
    "\n",
    "<br>\n",
    "This allows for further web-based data processing or the building of web applications."
   ]
  },
  {
   "cell_type": "markdown",
   "metadata": {
    "slideshow": {
     "slide_type": "slide"
    }
   },
   "source": [
    "### Basic Web Coverage Service (WCS) request\n"
   ]
  },
  {
   "cell_type": "markdown",
   "metadata": {
    "slideshow": {
     "slide_type": "fragment"
    }
   },
   "source": [
    "A Web Coverage Service request has three main components:\n",
    "\n",
    "* Service endpoint\n",
    "* Request type\n",
    "* optional parameters (depending on request type)"
   ]
  },
  {
   "cell_type": "markdown",
   "metadata": {
    "slideshow": {
     "slide_type": "slide"
    }
   },
   "source": [
    "# Request type \n",
    "</br>\n",
    "\n",
    "### Get Capabilities\n",
    "\n",
    "Provides general information to the Web Coverage Service Server.\n",
    "\n",
    "http://earthserver.ecmwf.int/rasdaman/ows?service=WCS&version=2.0.1&request=GetCapabilities"
   ]
  },
  {
   "cell_type": "markdown",
   "metadata": {
    "slideshow": {
     "slide_type": "slide"
    }
   },
   "source": [
    "# Request type \n",
    "</br>\n",
    "\n",
    "### Describe Coverage \n",
    "   \n",
    "Returns a <b>Coverage Description</b> document that contains the metadata of a data set encoded in XML.\n",
    "   \n",
    "http://earthserver.ecmwf.int/rasdaman/ows?service=WCS&version=2.0.1&request=DescribeCoverage&coverageId=temp2m"
   ]
  },
  {
   "cell_type": "markdown",
   "metadata": {
    "slideshow": {
     "slide_type": "slide"
    }
   },
   "source": [
    "# Request type \n",
    "</br>\n",
    "\n",
    "### Get Coverage \n",
    "\n",
    "The Get Coverage operation requests the <b>actual spatial data</b>. One has the ability <br> to subset domains (spatial and temporal) and to encode in different output formats. <br>\n",
    "\n",
    "http://earthserver.ecmwf.int/rasdaman/ows?service=WCS&version=2.0.1&request=GetCoverage&coverageId=temp2m&subset=Lat(48.1)&subset=Long(16.2)&subset=ansi(\"2010-01-01T00:00\",\"2010-12-31T18:00\")\n",
    "\n"
   ]
  },
  {
   "cell_type": "markdown",
   "metadata": {
    "slideshow": {
     "slide_type": "slide"
    }
   },
   "source": [
    " ***Optional* parameters:**  \n",
    "- **DescribeCoverage:**  <font color=\"blue\"><b>&coverageId=</b><i>coverageId</i></font>\n",
    "- **GetCoverage:**  \n",
    "  - <font color=\"blue\"><b>&coverageId=</b><i>coverageId</i></font>\n",
    "  - <font color=\"blue\"><b>&subset=</b><i>axisSubset1</i>&subset=<i>axisSubset2</i>...</font>  \n",
    "With the add-on **&subset** a coverage axis can be subsetted. For every subsetting operation a subset request has to be concatenated. If you want to do e.g. a temporal (time axis) and spatial subset (latitude and longitude axes), you have to concatenate three subset requests. If no **&subset** is specified, the entire coverage is requested, which can be multiple GBs of data</p>  \n",
    "  - <font color=\"blue\"><b>&format=</b><i>formatSupported</i></font>  \n",
    "With the add-on **&format** a custom format can be specified. The supported formats are specified in the ***GetCapabilites document***. The default format is application/gml+xml. If the format parameter is not specified, the result is returned in a xml file. \n",
    "  Following formats are currently supported by OGC WCS 2.0.1:  \n",
    " \n",
    "  >> * **netCDF:** applications/netcdf\n",
    "* **JPEG2000:** image/jp2\n",
    "* **GeoTIFF:** image/tiff\n",
    "* **XML:** application/gml+xml\n",
    "* **PNG:** image/png"
   ]
  },
  {
   "cell_type": "markdown",
   "metadata": {
    "collapsed": true,
    "slideshow": {
     "slide_type": "slide"
    }
   },
   "source": [
    "# GetCoverage Example Requests\n",
    "\n",
    "The GetCoverage operation requests the actual spatial data. The power of the GetCoverage request is the ability to subset domains (spatial and temporal) and to encode the output in different formats. All examples will take 2m air temperature as example coverage.\n"
   ]
  },
  {
   "cell_type": "markdown",
   "metadata": {
    "slideshow": {
     "slide_type": "slide"
    }
   },
   "source": [
    "### Slice operation (dimension reduction)"
   ]
  },
  {
   "cell_type": "markdown",
   "metadata": {
    "slideshow": {
     "slide_type": "fragment"
    }
   },
   "source": [
    "With the subset parameter, the dimensionality of the coverage can be reduced. From a multi-dimensional data cube, a **time series of a specific latitude/longitude grid point** or a **2D field for one specific time** can be retrieved. Examples are provided below.\n",
    "\n",
    "By default, the data is returned in a XML file. The XML tree child element **rangeSet**  contains the actual data.\n",
    "\n",
    "- Retrieve the **2m  air temperature time series** for every time step for the location Reading, UK. (Reduction from 3D to 1D)  \n",
    "\n",
    "<a href=\"http://earthserver.ecmwf.int/rasdaman/ows?service=WCS&version=2.0.1&request=GetCoverage&coverageId=temp2m&subset=Lat(51.0)&subset=Long(-1.0)&format=application/gml+xml\" target=\"_blank\">http://earthserver.ecmwf.int/rasdaman/ows?service=WCS&version=2.0.1&request=GetCoverage&coverageId=temp2m&subset=Lat(51.0)&subset=Long(-1.0)&format=application/gml+xml</a>\n"
   ]
  },
  {
   "cell_type": "code",
   "execution_count": 1,
   "metadata": {
    "collapsed": false,
    "slideshow": {
     "slide_type": "subslide"
    }
   },
   "outputs": [
    {
     "data": {
      "text/html": [
       "<iframe width=\"1000\" height=\"400\" src='http://earthserver.ecmwf.int/rasdaman/ows?service=WCS&version=2.0.1&request=GetCoverage&coverageId=temp2m&subset=Lat(51.0)&subset=Long(-1.0)&format=application/gml+xml'></iframe>"
      ],
      "text/plain": [
       "<IPython.core.display.HTML object>"
      ]
     },
     "metadata": {},
     "output_type": "display_data"
    }
   ],
   "source": [
    "%%html\n",
    "<iframe width=\"1000\" height=\"400\" src='http://earthserver.ecmwf.int/rasdaman/ows?service=WCS&version=2.0.1&request=GetCoverage&coverageId=temp2m&subset=Lat(51.0)&subset=Long(-1.0)&format=application/gml+xml'></iframe>"
   ]
  },
  {
   "cell_type": "markdown",
   "metadata": {
    "slideshow": {
     "slide_type": "slide"
    }
   },
   "source": [
    "***\n",
    "\n",
    "- Retrieve the **global field of 2m  air temperature** for 6 July 2010 at 00 UTC encoded as XML (default). (Reduction from 3D to 2D) \n",
    "\n",
    "<a href='http://earthserver.ecmwf.int/rasdaman/ows?service=WCS&version=2.0.1&request=GetCoverage&coverageId=temp2m&subset=ansi(\"2010-07-06T00:00\")&format=application/gml+xml' target=\"_blank\">http://earthserver.ecmwf.int/rasdaman/ows?service=WCS&version=2.0.1&request=GetCoverage&coverageId=temp2m&subset=ansi(\"2010-07-06T00:00\")&format=application/gml+xml</a>"
   ]
  },
  {
   "cell_type": "code",
   "execution_count": 3,
   "metadata": {
    "collapsed": false,
    "slideshow": {
     "slide_type": "subslide"
    }
   },
   "outputs": [
    {
     "data": {
      "text/html": [
       "<iframe width=\"1000\" height=\"400\" src='http://earthserver.ecmwf.int/rasdaman/ows?service=WCS&version=2.0.1&request=GetCoverage&coverageId=temp2m&subset=ansi(\"2010-07-06T00:00\")&format=application/gml+xml'></iframe>"
      ],
      "text/plain": [
       "<IPython.core.display.HTML object>"
      ]
     },
     "metadata": {},
     "output_type": "display_data"
    }
   ],
   "source": [
    "%%html\n",
    "<iframe width=\"1000\" height=\"400\" src='http://earthserver.ecmwf.int/rasdaman/ows?service=WCS&version=2.0.1&request=GetCoverage&coverageId=temp2m&subset=ansi(\"2010-07-06T00:00\")&format=application/gml+xml'></iframe>"
   ]
  },
  {
   "cell_type": "markdown",
   "metadata": {
    "slideshow": {
     "slide_type": "slide"
    }
   },
   "source": [
    "### Trim operation (extent reduction)"
   ]
  },
  {
   "cell_type": "markdown",
   "metadata": {
    "slideshow": {
     "slide_type": "fragment"
    }
   },
   "source": [
    "- Retrieve the **2m  air temperature for Europe** on 15 August 2003 at 12 UTC encoded as XML. (Reduction from 3D to a 2D subset) \n",
    "\n",
    "<a href='http://earthserver.ecmwf.int/rasdaman/ows?service=WCS&version=2.0.1&request=GetCoverage&coverageId=temp2m&subset=Lat(-30.0,65.0)&subset=Long(35.0,80.0)&subset=ansi(\"2010-08-15T00:00\")&format=application/gml+xml' target=\"_blank\">http://earthserver.ecmwf.int/rasdaman/ows?service=WCS&version=2.0.1&request=GetCoverage&coverageId=temp2m&subset=Lat(-30.0,65.0)&subset=Long(35.0,80.0)&subset=ansi(\"2010-08-15T00:00\")&format=application/gml+xml</a>"
   ]
  },
  {
   "cell_type": "code",
   "execution_count": 4,
   "metadata": {
    "collapsed": false,
    "scrolled": true,
    "slideshow": {
     "slide_type": "subslide"
    }
   },
   "outputs": [
    {
     "data": {
      "text/html": [
       "<iframe width=\"1000\" height=\"400\" src='http://earthserver.ecmwf.int/rasdaman/ows?service=WCS&version=2.0.1&request=GetCoverage&coverageId=temp2m&subset=Lat(-30.0,65.0)&subset=Long(35.0,80.0)&subset=ansi(\"2010-08-15T00:00\")&format=application/gml+xml'></iframe>"
      ],
      "text/plain": [
       "<IPython.core.display.HTML object>"
      ]
     },
     "metadata": {},
     "output_type": "display_data"
    }
   ],
   "source": [
    "%%html\n",
    "<iframe width=\"1000\" height=\"400\" src='http://earthserver.ecmwf.int/rasdaman/ows?service=WCS&version=2.0.1&request=GetCoverage&coverageId=temp2m&subset=Lat(-30.0,65.0)&subset=Long(35.0,80.0)&subset=ansi(\"2010-08-15T00:00\")&format=application/gml+xml'></iframe>"
   ]
  },
  {
   "cell_type": "markdown",
   "metadata": {},
   "source": [
    "Slide Type\n",
    "You now know how to access and retrieve data from a WCS server using the WCS core requests. The next tutorial chapter will show you how a WCS request can easily be integrated into a your python processing routine."
   ]
  }
 ],
 "metadata": {
  "celltoolbar": "Slideshow",
  "kernelspec": {
   "display_name": "Python 2",
   "language": "python",
   "name": "python2"
  },
  "language_info": {
   "codemirror_mode": {
    "name": "ipython",
    "version": 2
   },
   "file_extension": ".py",
   "mimetype": "text/x-python",
   "name": "python",
   "nbconvert_exporter": "python",
   "pygments_lexer": "ipython2",
   "version": "2.7.5"
  }
 },
 "nbformat": 4,
 "nbformat_minor": 1
}
