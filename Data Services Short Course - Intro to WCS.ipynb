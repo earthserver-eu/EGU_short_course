{
 "cells": [
  {
   "cell_type": "markdown",
   "metadata": {
    "collapsed": true,
    "slideshow": {
     "slide_type": "slide"
    }
   },
   "source": [
    "<img src=\"img/es2_logo.jpg\" alt=\"EarthServer-logo\" width=\"30%\" align=\"right\"  border=\"4\">\n",
    "<br><br>\n",
    "\n",
    "\n",
    "# Web Services for Big Earth Data <br>\n",
    "\n",
    "## Intoduction to Web Coverage Service\n",
    "\n",
    "### Julia Wagemann"
   ]
  },
  {
   "cell_type": "markdown",
   "metadata": {
    "slideshow": {
     "slide_type": "slide"
    }
   },
   "source": [
    "\n",
    "<b>BUT</b> - before we start...\n",
    "\n",
    "* <h3>who is familiar with WMS?</h3>"
   ]
  },
  {
   "cell_type": "markdown",
   "metadata": {
    "slideshow": {
     "slide_type": "fragment"
    }
   },
   "source": [
    "* <h3>who knows WCS?</h3>"
   ]
  },
  {
   "cell_type": "markdown",
   "metadata": {
    "slideshow": {
     "slide_type": "fragment"
    }
   },
   "source": [
    "* <h3>who has already worked with WCS?</h3>"
   ]
  },
  {
   "cell_type": "markdown",
   "metadata": {
    "slideshow": {
     "slide_type": "slide"
    }
   },
   "source": [
    "\n",
    "\n",
    "The Web Coverage Service is defined by the Open Geospatial Consortium (OGC) (2012):\n",
    "\n",
    "*<h2 align=\"center\"><b> The OGC WCS supports <b>electronic retrieval</b> of geospatial data as 'coverages' -  <br> that is, digital geospatial information representing space/time varying phenomena</b></h2>*\n",
    "\n",
    "<br>\n",
    "\n",
    "<p align=\"center\">Therefore, WCS is a <b>standard data-access protocol</b> that defines and enables <b>web-based retrieval of multi-dimensional geospatial datasets</b>.</p>\n"
   ]
  },
  {
   "cell_type": "markdown",
   "metadata": {
    "slideshow": {
     "slide_type": "slide"
    }
   },
   "source": [
    "\n",
    "Let's picture WCS as part of the common OGC web service suite...\n",
    "\n",
    "<br>\n",
    "\n",
    "![Overview OGC web service suite](./img/ogc_webservice_suite_0.png)\n"
   ]
  },
  {
   "cell_type": "markdown",
   "metadata": {
    "slideshow": {
     "slide_type": "fragment"
    }
   },
   "source": [
    "![Overview OGC web service suite](./img/ogc_webservice_suite_5.png)"
   ]
  },
  {
   "cell_type": "markdown",
   "metadata": {
    "slideshow": {
     "slide_type": "slide"
    }
   },
   "source": [
    "\n",
    "*<h2 align=\"center\"><b> Unlike Web Mapping Service (WMS), which returns spatial data as an image, WCS returns data in its raw form, with its original semantics.</b></h2>*\n",
    "\n",
    "<br>\n",
    "This allows for further web-based data processing or the building of web applications."
   ]
  },
  {
   "cell_type": "markdown",
   "metadata": {
    "slideshow": {
     "slide_type": "slide"
    }
   },
   "source": [
    "\n",
    "### Basic Web Coverage Service (WCS) request\n"
   ]
  },
  {
   "cell_type": "markdown",
   "metadata": {
    "slideshow": {
     "slide_type": "-"
    }
   },
   "source": [
    "A Web Coverage Service request has three main components:\n",
    "\n",
    "* Service endpoint\n",
    "* Request type\n",
    "* optional parameters (depending on request type)"
   ]
  },
  {
   "cell_type": "markdown",
   "metadata": {
    "slideshow": {
     "slide_type": "slide"
    }
   },
   "source": [
    "# Service endpoint <br>\n",
    "\n",
    "<b>http://earthserver.ecmwf.int/rasdaman/ows?service=WCS&version=2.0.1</b>"
   ]
  },
  {
   "cell_type": "markdown",
   "metadata": {
    "slideshow": {
     "slide_type": "slide"
    }
   },
   "source": [
    "\n",
    "\n",
    "# Request types \n",
    "\n",
    "### Get Capabilities\n",
    "\n",
    "Provides general information to the Web Coverage Service Server.\n",
    "\n",
    "http://earthserver.ecmwf.int/rasdaman/ows?service=WCS&version=2.0.1&request=GetCapabilities"
   ]
  },
  {
   "cell_type": "markdown",
   "metadata": {
    "slideshow": {
     "slide_type": "fragment"
    }
   },
   "source": [
    "### Describe Coverage \n",
    "   \n",
    "Returns a <b>Coverage Description</b> document that contains the metadata of a data set encoded in XML.\n",
    "   \n",
    "http://earthserver.ecmwf.int/rasdaman/ows?service=WCS&version=2.0.1<br>\n",
    "* <b>&request</b>=DescribeCoverage<br>\n",
    "* <b>&coverageId</b>=temp2m\n",
    "\n",
    "__Optional parameter__ <br>\n",
    "* <font color=\"blue\"><b>&coverageId</b>=coverageId</font>"
   ]
  },
  {
   "cell_type": "markdown",
   "metadata": {
    "slideshow": {
     "slide_type": "slide"
    }
   },
   "source": [
    "### Get Coverage \n",
    "\n",
    "The Get Coverage operation requests the <b>actual spatial data</b>. One has the ability <br> to subset domains (spatial and temporal) and to encode in different output formats. <br>\n",
    "\n",
    "<a href='http://earthserver.ecmwf.int/rasdaman/ows?service=WCS&version=2.0.1&request=GetCoverage&coverageId=temp2m&subset=Lat(48.1)&subset=Long(16.2)&subset=ansi(\"2010-01-01T00:00\",\"2010-12-31T18:00\")' target=\"_blank\">http://earthserver.ecmwf.int/rasdaman/ows?service=WCS&version=2.0.1<br>\n",
    "* <b>&request</b>=GetCoverage <br>\n",
    "* <b>&coverageId</b>=temp2m <br>\n",
    "* <b>&subset</b>=Lat(48.1)&subset=Long(16.2)&subset=ansi(\"2010-01-01T00:00\",\"2010-12-31T18:00\")</a>\n",
    "\n",
    "\n",
    "__Optional parameter__\n",
    "* <font color=\"blue\"><b>&coverageId</b>=coverageId</font>\n",
    "* <font color=\"blue\"><b>&subset</b>=axisSubset2</font>\n",
    "* <font color=\"blue\"><b>&format</b>=formatSupported</font>\n"
   ]
  },
  {
   "cell_type": "markdown",
   "metadata": {
    "slideshow": {
     "slide_type": "slide"
    }
   },
   "source": [
    "\n",
    "### Format options:  <br>\n",
    " \n",
    "Following formats are currently supported by OGC WCS 2.0.1:  \n",
    " \n",
    "> * **netCDF:** applications/netcdf\n",
    "> * **JPEG2000:** image/jp2\n",
    "> * **GeoTIFF:** image/tiff\n",
    "> * **XML:** application/gml+xml\n",
    "> * **PNG:** image/png"
   ]
  },
  {
   "cell_type": "markdown",
   "metadata": {
    "slideshow": {
     "slide_type": "slide"
    }
   },
   "source": [
    "## Datacube operations <br>\n",
    "\n",
    "\n",
    "<img src=\"img/trimming_slicing.png\" alt=\"EarthServer-logo\" width=\"90%\" align=\"center\"  border=\"4\">\n",
    "<br><br>\n"
   ]
  },
  {
   "cell_type": "markdown",
   "metadata": {
    "slideshow": {
     "slide_type": "slide"
    }
   },
   "source": [
    "### Slice operation (dimension reduction) <br>\n",
    "With the subset parameter, the dimensionality of the coverage can be reduced. From a multi-dimensional data cube, a **time series of a specific latitude/longitude grid point** or a **2D field for one specific time** can be retrieved. Examples are provided below.\n",
    "\n",
    "By default, the data is returned in a XML file. The XML tree child element **rangeSet**  contains the actual data.\n",
    "\n",
    "- Retrieve the **2m  air temperature time series** for every time step for the location Reading, UK. (Reduction from 3D to 1D)  \n",
    "\n",
    "\n",
    "<a href=\"http://earthserver.ecmwf.int/rasdaman/ows?service=WCS&version=2.0.1&request=GetCoverage&coverageId=temp2m&subset=Lat(51.0)&subset=Long(-1.0)&format=application/gml+xml\" target=\"_blank\">http://earthserver.ecmwf.int/rasdaman/ows?service=WCS&version=2.0.1 <br> \n",
    "* <b>&request</b>=GetCoverage <br> \n",
    "* <b>&coverageId</b>=temp2m <br> \n",
    "* <b>&subset</b>=Lat(51.0)&subset=Long(-1.0) <br>\n",
    "* <b>&format</b>=application/gml+xml</a>\n"
   ]
  },
  {
   "cell_type": "markdown",
   "metadata": {
    "slideshow": {
     "slide_type": "slide"
    }
   },
   "source": [
    "### Trim operation (extent reduction) <br>\n",
    "\n",
    "- Retrieve the **2m  air temperature for Europe** on 15 August 2003 at 12 UTC encoded as XML. (Reduction from 3D to a 2D subset) \n",
    "\n",
    "<a href='http://earthserver.ecmwf.int/rasdaman/ows?service=WCS&version=2.0.1&request=GetCoverage&coverageId=temp2m&subset=Lat(-30.0,65.0)&subset=Long(35.0,80.0)&subset=ansi(\"2010-08-15T00:00\")&format=application/gml+xml' target=\"_blank\">http://earthserver.ecmwf.int/rasdaman/ows?service=WCS&version=2.0.1<br>\n",
    "* <b>&request</b>=GetCoverage<br>\n",
    "* <b>&coverageId</b>=temp2m<br>\n",
    "* <b>&subset</b>=Lat(-30.0,65.0)&subset=Long(35.0,80.0)&subset=ansi(\"2010-08-15T00:00\")<br>\n",
    "* <b>&format</b>=application/gml+xml</a>"
   ]
  }
 ],
 "metadata": {
  "celltoolbar": "Slideshow",
  "kernelspec": {
   "display_name": "Python 2",
   "language": "python",
   "name": "python2"
  },
  "language_info": {
   "codemirror_mode": {
    "name": "ipython",
    "version": 2
   },
   "file_extension": ".py",
   "mimetype": "text/x-python",
   "name": "python",
   "nbconvert_exporter": "python",
   "pygments_lexer": "ipython2",
   "version": "2.7.11"
  }
 },
 "nbformat": 4,
 "nbformat_minor": 1
}
